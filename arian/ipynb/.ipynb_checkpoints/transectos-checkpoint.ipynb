{
 "cells": [
  {
   "cell_type": "code",
   "execution_count": 1,
   "metadata": {},
   "outputs": [],
   "source": [
    "import xarray as xr\n",
    "import matplotlib.pyplot as plt\n",
    "import numpy as np\n",
    "from mpl_toolkits.basemap import Basemap\n",
    "\n",
    "%matplotlib inline"
   ]
  },
  {
   "cell_type": "markdown",
   "metadata": {},
   "source": [
    "# Definindo uma função\n",
    "\n",
    "Quando estamos programando e precisamos repetir muito um trecho de código, vem a calhar criarmos uma função com este código.\n",
    "\n",
    "Podemos co"
   ]
  },
  {
   "cell_type": "code",
   "execution_count": 2,
   "metadata": {},
   "outputs": [],
   "source": [
    "def make_map(ax,llat=-30,ulat=-20,llon=-50,ulon=-39,resolution='l',nmeridians=3,nparallels=2):\n",
    "\n",
    "    m = Basemap(projection='merc', llcrnrlat=llat, urcrnrlat=ulat, llcrnrlon=llon, urcrnrlon=ulon, resolution=resolution)\n",
    "\n",
    "    m.ax = ax\n",
    "\n",
    "    m.drawcoastlines(linewidth=.5)\n",
    "\n",
    "    return m"
   ]
  },
  {
   "cell_type": "code",
   "execution_count": 7,
   "metadata": {},
   "outputs": [],
   "source": [
    "# importando arquivo\n",
    "DATA_DIR = '/home/danilo/mestrado/arian/'\n",
    "fname = DATA_DIR + 'CARS_2009_WORLD_MONTHLY_01.nc'\n",
    "\n",
    "ncin = xr.open_dataset(fname,decode_times=False)"
   ]
  },
  {
   "cell_type": "code",
   "execution_count": 8,
   "metadata": {},
   "outputs": [],
   "source": [
    "# extraindo uma variavel qualquer para trabalhar\n",
    "lon = ncin.LONGITUDE.values\n",
    "lon = ((lon - 180)%360) - 180 # convertendo de 0/360 para -180/180\n",
    "lat = ncin.LATITUDE.values\n",
    "dep = ncin.DEPTH.values\n",
    "data = ncin.TEMP[0,:,:,:] # tempo 0, todas as profs, lons e lats\n"
   ]
  },
  {
   "cell_type": "markdown",
   "metadata": {},
   "source": [
    "Selecionamos o ponto de início do transecto (continente, por exemplo).\n",
    "\n",
    "Nesse caso, eu olhei a grade do arquivo netcdf e identifiquei as coordenadas que eu gostaria de utilizar, pra fazer um transecto ao largo de Santos. Faz isso você também, você já fez antes."
   ]
  },
  {
   "cell_type": "code",
   "execution_count": 9,
   "metadata": {},
   "outputs": [],
   "source": [
    "# latitude e longitude do começo ao final\n",
    "ilat,flat = 103, 92\n",
    "ilon,flon = 626, 637\n",
    "\n",
    "# recortando: aqui tem um pulo do gato\n",
    "ndata = data[:,flat:ilat,ilon:flon]\n",
    "nlon1D= lon[ilon:flon]\n",
    "nlat1D= lat[flat:ilat]\n",
    "\n",
    "# gridando a matriz de coordenadas\n",
    "nlon,nlat = np.meshgrid(nlon1D,nlat1D)\n",
    "\n",
    "# por via das duvidas, criamos um xplot,yplot para tooodo os lon e lat\n",
    "xplot,yplot = np.meshgrid(lon,lat)"
   ]
  },
  {
   "cell_type": "code",
   "execution_count": 10,
   "metadata": {},
   "outputs": [
    {
     "ename": "IndexError",
     "evalue": "index 0 is out of bounds for axis 0 with size 0",
     "output_type": "error",
     "traceback": [
      "\u001b[0;31m---------------------------------------------------------------------------\u001b[0m",
      "\u001b[0;31mIndexError\u001b[0m                                Traceback (most recent call last)",
      "\u001b[0;32m<ipython-input-10-d47844b73489>\u001b[0m in \u001b[0;36m<module>\u001b[0;34m()\u001b[0m\n\u001b[1;32m      8\u001b[0m \u001b[0max\u001b[0m\u001b[0;34m=\u001b[0m\u001b[0maxes\u001b[0m\u001b[0;34m[\u001b[0m\u001b[0;36m1\u001b[0m\u001b[0;34m]\u001b[0m\u001b[0;34m\u001b[0m\u001b[0m\n\u001b[1;32m      9\u001b[0m \u001b[0mm\u001b[0m \u001b[0;34m=\u001b[0m \u001b[0mmake_map\u001b[0m\u001b[0;34m(\u001b[0m\u001b[0max\u001b[0m\u001b[0;34m)\u001b[0m\u001b[0;34m\u001b[0m\u001b[0m\n\u001b[0;32m---> 10\u001b[0;31m \u001b[0mm\u001b[0m\u001b[0;34m.\u001b[0m\u001b[0mcontourf\u001b[0m\u001b[0;34m(\u001b[0m\u001b[0mnlon\u001b[0m\u001b[0;34m,\u001b[0m\u001b[0mnlat\u001b[0m\u001b[0;34m,\u001b[0m\u001b[0mndata\u001b[0m\u001b[0;34m[\u001b[0m\u001b[0;36m0\u001b[0m\u001b[0;34m,\u001b[0m\u001b[0;34m:\u001b[0m\u001b[0;34m,\u001b[0m\u001b[0;34m:\u001b[0m\u001b[0;34m]\u001b[0m\u001b[0;34m,\u001b[0m\u001b[0mlatlon\u001b[0m\u001b[0;34m=\u001b[0m\u001b[0mTrue\u001b[0m\u001b[0;34m)\u001b[0m\u001b[0;34m\u001b[0m\u001b[0m\n\u001b[0m\u001b[1;32m     11\u001b[0m \u001b[0mm\u001b[0m\u001b[0;34m.\u001b[0m\u001b[0mplot\u001b[0m\u001b[0;34m(\u001b[0m\u001b[0mnlon\u001b[0m\u001b[0;34m,\u001b[0m\u001b[0mnlat\u001b[0m\u001b[0;34m,\u001b[0m\u001b[0;34m'k'\u001b[0m\u001b[0;34m,\u001b[0m\u001b[0malpha\u001b[0m\u001b[0;34m=\u001b[0m\u001b[0;36m.3\u001b[0m\u001b[0;34m,\u001b[0m\u001b[0mlatlon\u001b[0m\u001b[0;34m=\u001b[0m\u001b[0mTrue\u001b[0m\u001b[0;34m)\u001b[0m\u001b[0;34m\u001b[0m\u001b[0m\n\u001b[1;32m     12\u001b[0m \u001b[0mm\u001b[0m\u001b[0;34m.\u001b[0m\u001b[0mplot\u001b[0m\u001b[0;34m(\u001b[0m\u001b[0mnlon\u001b[0m\u001b[0;34m.\u001b[0m\u001b[0mT\u001b[0m\u001b[0;34m,\u001b[0m\u001b[0mnlat\u001b[0m\u001b[0;34m.\u001b[0m\u001b[0mT\u001b[0m\u001b[0;34m,\u001b[0m\u001b[0;34m'k'\u001b[0m\u001b[0;34m,\u001b[0m\u001b[0malpha\u001b[0m\u001b[0;34m=\u001b[0m\u001b[0;36m.3\u001b[0m\u001b[0;34m,\u001b[0m\u001b[0mlatlon\u001b[0m\u001b[0;34m=\u001b[0m\u001b[0mTrue\u001b[0m\u001b[0;34m)\u001b[0m\u001b[0;34m\u001b[0m\u001b[0m\n",
      "\u001b[0;32m/home/danilo/miniconda2/envs/mestrado/lib/python2.7/site-packages/mpl_toolkits/basemap/__init__.pyc\u001b[0m in \u001b[0;36mwith_transform\u001b[0;34m(self, x, y, data, *args, **kwargs)\u001b[0m\n\u001b[1;32m    531\u001b[0m             \u001b[0;32mif\u001b[0m \u001b[0mself\u001b[0m\u001b[0;34m.\u001b[0m\u001b[0mprojection\u001b[0m \u001b[0;32min\u001b[0m \u001b[0m_cylproj\u001b[0m \u001b[0;32mor\u001b[0m \u001b[0mself\u001b[0m\u001b[0;34m.\u001b[0m\u001b[0mprojection\u001b[0m \u001b[0;32min\u001b[0m \u001b[0m_pseudocyl\u001b[0m\u001b[0;34m:\u001b[0m\u001b[0;34m\u001b[0m\u001b[0m\n\u001b[1;32m    532\u001b[0m                 x, data = self.shiftdata(x, data,\n\u001b[0;32m--> 533\u001b[0;31m                                          fix_wrap_around=plotfunc.__name__ not in [\"scatter\"])\n\u001b[0m\u001b[1;32m    534\u001b[0m             \u001b[0;31m# convert lat/lon coords to map projection coords.\u001b[0m\u001b[0;34m\u001b[0m\u001b[0;34m\u001b[0m\u001b[0m\n\u001b[1;32m    535\u001b[0m             \u001b[0mx\u001b[0m\u001b[0;34m,\u001b[0m \u001b[0my\u001b[0m \u001b[0;34m=\u001b[0m \u001b[0mself\u001b[0m\u001b[0;34m(\u001b[0m\u001b[0mx\u001b[0m\u001b[0;34m,\u001b[0m\u001b[0my\u001b[0m\u001b[0;34m)\u001b[0m\u001b[0;34m\u001b[0m\u001b[0m\n",
      "\u001b[0;32m/home/danilo/miniconda2/envs/mestrado/lib/python2.7/site-packages/mpl_toolkits/basemap/__init__.pyc\u001b[0m in \u001b[0;36mshiftdata\u001b[0;34m(self, lonsin, datain, lon_0, fix_wrap_around)\u001b[0m\n\u001b[1;32m   4733\u001b[0m             \u001b[0mnlats\u001b[0m \u001b[0;34m=\u001b[0m \u001b[0mlonsin\u001b[0m\u001b[0;34m.\u001b[0m\u001b[0mshape\u001b[0m\u001b[0;34m[\u001b[0m\u001b[0;36m0\u001b[0m\u001b[0;34m]\u001b[0m\u001b[0;34m\u001b[0m\u001b[0m\n\u001b[1;32m   4734\u001b[0m             \u001b[0mnlons\u001b[0m \u001b[0;34m=\u001b[0m \u001b[0mlonsin\u001b[0m\u001b[0;34m.\u001b[0m\u001b[0mshape\u001b[0m\u001b[0;34m[\u001b[0m\u001b[0;36m1\u001b[0m\u001b[0;34m]\u001b[0m\u001b[0;34m\u001b[0m\u001b[0m\n\u001b[0;32m-> 4735\u001b[0;31m             \u001b[0mlonsin1\u001b[0m \u001b[0;34m=\u001b[0m \u001b[0mlonsin\u001b[0m\u001b[0;34m[\u001b[0m\u001b[0;36m0\u001b[0m\u001b[0;34m,\u001b[0m\u001b[0;34m:\u001b[0m\u001b[0;34m]\u001b[0m\u001b[0;34m\u001b[0m\u001b[0m\n\u001b[0m\u001b[1;32m   4736\u001b[0m             \u001b[0mlonsin1\u001b[0m \u001b[0;34m=\u001b[0m \u001b[0mnp\u001b[0m\u001b[0;34m.\u001b[0m\u001b[0mwhere\u001b[0m\u001b[0;34m(\u001b[0m\u001b[0mlonsin1\u001b[0m \u001b[0;34m>\u001b[0m \u001b[0mlon_0\u001b[0m\u001b[0;34m+\u001b[0m\u001b[0;36m180\u001b[0m\u001b[0;34m,\u001b[0m \u001b[0mlonsin1\u001b[0m\u001b[0;34m-\u001b[0m\u001b[0;36m360\u001b[0m \u001b[0;34m,\u001b[0m\u001b[0mlonsin1\u001b[0m\u001b[0;34m)\u001b[0m\u001b[0;34m\u001b[0m\u001b[0m\n\u001b[1;32m   4737\u001b[0m             \u001b[0mlonsin1\u001b[0m \u001b[0;34m=\u001b[0m \u001b[0mnp\u001b[0m\u001b[0;34m.\u001b[0m\u001b[0mwhere\u001b[0m\u001b[0;34m(\u001b[0m\u001b[0mlonsin1\u001b[0m \u001b[0;34m<\u001b[0m \u001b[0mlon_0\u001b[0m\u001b[0;34m-\u001b[0m\u001b[0;36m180\u001b[0m\u001b[0;34m,\u001b[0m \u001b[0mlonsin1\u001b[0m\u001b[0;34m+\u001b[0m\u001b[0;36m360\u001b[0m \u001b[0;34m,\u001b[0m\u001b[0mlonsin1\u001b[0m\u001b[0;34m)\u001b[0m\u001b[0;34m\u001b[0m\u001b[0m\n",
      "\u001b[0;31mIndexError\u001b[0m: index 0 is out of bounds for axis 0 with size 0"
     ]
    },
    {
     "data": {
      "image/png": "[encoded data removed]",
      "text/plain": [
       "<Figure size 432x288 with 2 Axes>"
      ]
     },
     "metadata": {},
     "output_type": "display_data"
    }
   ],
   "source": [
    "# visualizando o novo campo e aonde sera feito o transecto\n",
    "fig,axes = plt.subplots(ncols=2)\n",
    "ax=axes[0]\n",
    "m = make_map(ax)\n",
    "m.contourf(xplot,yplot,data[0,:,:],latlon=True)\n",
    "ax.set_title('Grade Completa')\n",
    "\n",
    "ax=axes[1]\n",
    "m = make_map(ax)\n",
    "m.contourf(nlon,nlat,ndata[0,:,:],latlon=True)\n",
    "m.plot(nlon,nlat,'k',alpha=.3,latlon=True)\n",
    "m.plot(nlon.T,nlat.T,'k',alpha=.3,latlon=True)\n",
    "ax.set_title('Grade Subamostrada')\n",
    "\n",
    "jindexes = np.arange(10,-1,-1)\n",
    "iindexes = np.arange(0,11,1)\n",
    "for j,i in zip(jindexes,iindexes):\n",
    "    m.scatter(nlon[j,i],nlat[j,i],s=30,c='r',latlon=True)\n"
   ]
  },
  {
   "cell_type": "code",
   "execution_count": null,
   "metadata": {},
   "outputs": [],
   "source": [
    "# criando a martriz do transecto\n",
    "transect = np.zeros(ndata.shape[0:2])*np.nan\n",
    "\n",
    "for k in range(ndata.shape[0]):\n",
    "    for j,i in zip(jindexes,iindexes):\n",
    "        transect[k,i] = ndata[k,j,i]"
   ]
  },
  {
   "cell_type": "code",
   "execution_count": null,
   "metadata": {},
   "outputs": [],
   "source": [
    "# visualizando a secao vertical\n",
    "fig,axes = plt.subplots(ncols=2,figsize=(10,5))\n",
    "ax = axes[0]\n",
    "m = make_map(ax)\n",
    "m.plot(nlon[jindexes,iindexes],nlat[jindexes,iindexes],'r',latlon=True)\n",
    "ax.set_title('Localizacao do transecto')\n",
    "\n",
    "ax = axes[1]\n",
    "ax.contourf(transect)\n",
    "ax.set_ylim([0,3])\n",
    "ax.invert_yaxis()\n",
    "ax.set_title('Transecto ao largo de Santos')"
   ]
  },
  {
   "cell_type": "markdown",
   "metadata": {},
   "source": [
    "Os próximos passos seria plotar o contourf do transecto utilizando a profundidade, no eixo y, e a distância no eixo x. Mas não são coisas triviais de se fazer e, por hora, isso já basta pra você visualizar o comportamento dos nutrientes na coluna d'água.\n",
    "\n",
    "Tenta fazer isso pra outras duas radiais:\n",
    "\n",
    ". uma simples: ao largo de Cananéia\n",
    ". uma complicada: ao largo de Ubatuba"
   ]
  }
 ],
 "metadata": {
  "kernelspec": {
   "display_name": "Python 2",
   "language": "python",
   "name": "python2"
  },
  "language_info": {
   "codemirror_mode": {
    "name": "ipython",
    "version": 2
   },
   "file_extension": ".py",
   "mimetype": "text/x-python",
   "name": "python",
   "nbconvert_exporter": "python",
   "pygments_lexer": "ipython2",
   "version": "2.7.14"
  }
 },
 "nbformat": 4,
 "nbformat_minor": 2
}

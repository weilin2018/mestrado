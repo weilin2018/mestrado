{
"cells": [
 {
 "cell_type": "markdown",
 "metadata": {},
  
 "source": [
  "<h1 align=\"center\"><font color=\"0066FF\" size=110>Partial Differential Equations III: 2D Laplace Equation on NxN grid</font></h1>\n"
  ]
 },
{
 "cell_type": "markdown",
 "metadata": {},
  
 "source": [
  "\n",
  "\n"
  ]
 },
{
 "cell_type": "code",
 "metadata": {},
  "outputs": [],
 "execution_count": 1,

 "source": [
  "import numpy as np\n",
  "import scipy as sp\n",
  "import scipy.linalg\n",
  "import matplotlib\n",
  "from IPython.html.widgets import interact\n",
  "from IPython.display import Image\n",
  "try:\n",
  "    %matplotlib inline\n",
  "except:\n",
  "    # not in notebook\n",
  "    pass\n",
  "LECTURE = False\n",
  "if LECTURE:\n",
  "    size = 20\n",
  "    matplotlib.rcParams['figure.figsize'] = (10, 6)\n",
  "    matplotlib.rcParams['axes.labelsize'] = size\n",
  "    matplotlib.rcParams['axes.titlesize'] = size\n",
  "    matplotlib.rcParams['xtick.labelsize'] = size * 0.6\n",
  "    matplotlib.rcParams['ytick.labelsize'] = size * 0.6\n",
  "import matplotlib.pyplot as plt\n",
  "\n"
  ]
 },
{
 "cell_type": "markdown",
 "metadata": {},
  
 "source": [
  "# Learning Outcomes\n",
  "\n",
  "After studying this notebook you should be able to\n",
  "-   Write programs for generating the matrix $A$ of size $(N-2) \\times (N-2)$, and the vector $b$ of size $Nx1$, such that the 2D Laplace equation on an NxN grid can be expressed as $Au = b$, where $u$ is the column vector of unknowns $U_0, U_1, \\cdots, U_{N-2}$;\n",
  "-   Solve the system of equations for $u$, using for example `scipy.linalg.solve`;\n",
  "-   Reshape the solution vector $u$ into a matrix $T$ of size $(N-2) \\times (N-2)$, and add the boundary temperature to $T$ by embedding it into an $N \\times N$ array;\n",
  "-   Plot the solution, for example using Matplotlib's `pcolor` or `plot_wireframe`\n",
  "-   List some alternative methods to the Finite Difference Method\n",
  "\n",
  "# Introduction\n",
  "\n",
  "The key challenge is generating the matrix $A$ that describes our 2D Laplace equation. This can be done by:\n",
  "1.  using the structure of the $A$ based on our earlier solution on a 5x5 grid (effective but not always easy)\n",
  "2.  writing a program based on the finite difference stencil (more difficult but more general).\n",
  "\n",
  "We will use both approaches\n",
  "\n",
  "# Generic solver\n",
  "\n",
  "Our solve requires two functions `get_A(n)` and `get_b(n, Te)` returning\n",
  "the `n \\times n` matrix $A$ and the $n^2\\times 1$ vector $b$, where\n",
  "$n=N-2$ is the number of unknowns in each direction.\n",
  "\n"
  ]
 },
{
 "cell_type": "code",
 "metadata": {},
  "outputs": [],
 "execution_count": 1,

 "source": [
  "def embed(T, Te=100):\n",
  "    \"\"\"Embed the array T giving the temperature at the inner nodes in\n",
  "    the domain into a larger array including the boundary temperatures\n",
  "    \"\"\"\n",
  "    N = T.shape[0] + 2\n",
  "    Tfull = np.zeros((N,N))\n",
  "    Tfull[0] = Te\n",
  "    Tfull[1:-1, 1:-1] = T\n",
  "    return Tfull\n",
  "\n",
  "def laplace2d(get_A, get_b, N=50, Te=100):\n",
  "    \"\"\"Solve the Laplace equation on a 2D grid, with T=0 at all\n",
  "    boundaries except y=0, where T=Te, and return an 2D array of size\n",
  "    NxN giving the temperature distribution throughout the domain.\n",
  "    \"\"\"\n",
  "    n = N - 2\n",
  "    A = get_A(n)\n",
  "    b = get_b(n, Te)\n",
  "    U = sp.linalg.solve(A, b)\n",
  "    T = U.reshape((n, n))\n",
  "    Tfull = embed(T, Te)\n",
  "    return Tfull\n",
  "\n"
  ]
 },
{
 "cell_type": "markdown",
 "metadata": {},
  
 "source": [
  "Plotting functions:\n",
  "\n"
  ]
 },
{
 "cell_type": "code",
 "metadata": {},
  "outputs": [],
 "execution_count": 1,

 "source": [
  "def plot_pcolor(Tfull):\n",
  "    \"\"\"Plot temperature in the domain using pcolor\"\"\"\n",
  "    N = Tfull.shape[0]\n",
  "    x = y = np.linspace(0, 1, N)\n",
  "    X, Y = np.meshgrid(x,y)\n",
  "    plt.pcolor(X, Y, Tfull)\n",
  "    plt.axis('scaled')\n",
  "    plt.colorbar()\n",
  "    plt.xlabel('x (m)')\n",
  "    plt.ylabel('y (m)')\n",
  "    plt.title('T(x,y) on %dx%d grid' % (N,N))\n",
  "\n",
  "\n",
  "def plot_wireframe(Tfull):\n",
  "    \"\"\"Plot temperature in the domain using plot_wireframe\"\"\"\n",
  "    from mpl_toolkits.mplot3d import axes3d\n",
  "    N = Tfull.shape[0]\n",
  "    x = y = np.linspace(0, 1, N)\n",
  "    X, Y = np.meshgrid(x,y)\n",
  "    # Construct and return a function suitable for interactive demo\n",
  "    def plot(elev=25, azim=50):\n",
  "        fig = plt.figure(1, figsize=(14, 8))\n",
  "        plt.clf()\n",
  "        ax = fig.add_subplot(111, projection='3d')\n",
  "        ax.plot_wireframe(X, Y, Tfull)\n",
  "        ax.view_init(elev=elev, azim=azim)\n",
  "        plt.axis('scaled')\n",
  "        plt.xlabel('x (m)')\n",
  "        plt.ylabel('y (m)')\n",
  "        plt.title('T(x,y) on %dx%d grid' % (N,N))\n",
  "    plot()\n",
  "    return plot\n",
  "\n"
  ]
 },
{
 "cell_type": "markdown",
 "metadata": {},
  
 "source": [
  "# Solution 1: using the block structure uncovered in the 5x5 solution\n",
  "\n",
  "In the previous lecture, we derived the following system of equations for the 5x5 solution:\n",
  "We can write this as a matrix:\n",
  "\n",
  "\\begin{equation}\n",
  "A u = \\left(\n",
  "\\begin{array}{@{}ccc|ccc|ccc@{}}\n",
  "-4  &  1 &  0 &  1 &  0 &  0 &  0 &  0 &  0  \\\\\n",
  " 1  & -4 &  1 &  0 &  1 &  0 &  0 &  0 &  0  \\\\\n",
  " 0  &  1 & -4 &  0 &  0 &  1 &  0 &  0 &  0  \\\\\n",
  "\\hline\n",
  " 1  &  0 &  0 & -4 &  1 &  0 &  1 &  0 &  0  \\\\\n",
  " 0  &  1 &  0 &  1 & -4 &  1 &  0 &  1 &  0  \\\\\n",
  " 0  &  0 &  1 &  0 &  1 & -4 &  0 &  0 &  1  \\\\\n",
  "\\hline\n",
  " 0  &  0 &  0 &  1 &  0 &  0 & -4 &  1 &  0  \\\\\n",
  " 0  &  0 &  0 &  0 &  1 &  0 &  1 & -4 &  1  \\\\\n",
  " 0  &  0 &  0 &  0 &  0 &  1 &  0 &  1 & -4\n",
  "\\end{array}\\right)\n",
  "\\begin{pmatrix}\n",
  "U_1 \\\\ U_2 \\\\ U_3 \\\\ U_4 \\\\ U_5 \\\\ U_6 \\\\ U_7 \\\\ U_8 \\\\ U_9\n",
  "\\end{pmatrix}\n",
  "=\n",
  "\\begin{pmatrix}\n",
  "-T_e \\\\ -T_e \\\\ -T_e \\\\ 0 \\\\ 0 \\\\ 0 \\\\ 0 \\\\ 0 \\\\ 0\n",
  "\\end{pmatrix} = b.\\\\\n",
  "\\end{equation}\n",
  "\n",
  "Note that matrix $A$ can be written in block matrix form as:\n",
  "\n",
  "\\begin{equation}\n",
  "A =\n",
  "\\begin{pmatrix}\n",
  "B & I & 0 \\\\\n",
  "I & B & I \\\\\n",
  "0 & I & B\n",
  "\\end{pmatrix},\n",
  "\\end{equation}\n",
  "\n",
  "where\n",
  "\n",
  "\\begin{align}\n",
  "I &=\n",
  "\\begin{pmatrix}\n",
  "1 & 0 & 0 \\\\\n",
  "0 & 1 & 0 \\\\\n",
  "0 & 0 & 1\n",
  "\\end{pmatrix}, &\n",
  "B &=\n",
  "\\begin{pmatrix}\n",
  "-4 &  1 &  0 \\\\\n",
  " 1 & -4 &  1 \\\\\n",
  " 0 &  1 & -4\n",
  "\\end{pmatrix}.\n",
  "\\end{align}\n",
  "\n",
  "The block matrices $B$ and $I$ are of size $n\\times n$, where $n=N-2$ is the number of unknowns in each direction and $N=5$ is the size of the grid in each direction. We've got $n$  diagonal blocks $B$ and $n-1$ upper diagonal blocks $I$, and $n-1$ lower diagonal blocks $I$. Thus, we can generalise the above structure as\n",
  "\n",
  "\\begin{equation}\n",
  "A =\n",
  "\\begin{pmatrix}\n",
  "B & I &        & &          \\\\\n",
  "I & B & I      &  &        \\\\\n",
  "  & I & \\ddots & \\ddots & \\\\\n",
  "  & & \\ddots & \\ddots & I      \\\\\n",
  "  & &   &   I  & B      \\\\\n",
  "\\end{pmatrix},\n",
  "\\end{equation}\n",
  "\n",
  "\\begin{align}\n",
  "I &=\n",
  "\\begin{pmatrix}\n",
  "1 &  &        & &          \\\\\n",
  "& 1 &       &  &        \\\\\n",
  "&  & \\ddots &  & \\\\\n",
  "& &  & \\ddots &       \\\\\n",
  "& &   &     & 1      \\\\\n",
  "\\end{pmatrix}, &\n",
  "B &=\n",
  "\\begin{pmatrix}\n",
  "-4 & 1 &        & &          \\\\\n",
  "1 & -4 & 1      &  &        \\\\\n",
  "  & 1 & \\ddots & \\ddots & \\\\\n",
  "  & & \\ddots & \\ddots & 1      \\\\\n",
  "  & &   &   1  & -4      \\\\\n",
  "\\end{pmatrix}.\n",
  "\\end{align}\n",
  "\n",
  "-   Setup the `A` matrix for the system of linear equations:\n",
  "\n"
  ]
 },
{
 "cell_type": "code",
 "metadata": {},
  "outputs": [],
 "execution_count": 1,

 "source": [
  "def get_A(n):\n",
  "    \"\"\"Return matrix A for 2D Laplace equation using block diagonal\n",
  "    structure, given the number of unknowns 'n' in each direction.\n",
  "    \"\"\"\n",
  "    Bdiag = -4 * np.eye(n)\n",
  "    Bupper = np.diag([1] * (n - 1), 1)\n",
  "    Blower = np.diag([1] * (n - 1), -1)\n",
  "    B = Bdiag + Bupper + Blower\n",
  "    # Creat a list [B,B,B,...,B] with n Bs\n",
  "    blst = [B] * n\n",
  "    # Unpack the list of diagonal blocks 'blst'\n",
  "    # since block_diag expects each block to be passed as separate\n",
  "    # arguments. This is the same as doing block_diag(B,B,B,...,B)\n",
  "    A = sp.linalg.block_diag(*blst)\n",
  "    # Upper diagonal array offset by n: we've got (n-1) I blocks\n",
  "    # each containing n ones\n",
  "    Dupper = np.diag(np.ones(n * (n - 1)), n)\n",
  "    # Lower diagonal array offset by -n\n",
  "    Dlower = np.diag(np.ones(n * (n - 1)), -n)\n",
  "    A += Dupper + Dlower\n",
  "    return A\n",
  "\n"
  ]
 },
{
 "cell_type": "markdown",
 "metadata": {},
  
 "source": [
  "-   Setup the `b` vector for the system of linear equations:\n",
  "\n"
  ]
 },
{
 "cell_type": "code",
 "metadata": {},
  "outputs": [],
 "execution_count": 1,

 "source": [
  "def get_b(n, Te=100):\n",
  "    \"\"\"Return column vector of size n^2 containing the boundary conditions.\"\"\"\n",
  "    b = np.zeros(n**2)\n",
  "    b[:n] = -Te\n",
  "    return b\n",
  "\n"
  ]
 },
{
 "cell_type": "markdown",
 "metadata": {},
  
 "source": [
  "-   Solve the equation and plot\n",
  "\n"
  ]
 },
{
 "cell_type": "code",
 "metadata": {},
  "outputs": [],
 "execution_count": 1,

 "source": [
  "Tfull = laplace2d(get_A, get_b)\n",
  "plt.figure(1)\n",
  "plt.clf()\n",
  "plot_pcolor(Tfull)\n",
  "plt.savefig('fig06-01.pdf')\n",
  "\n"
  ]
 },
{
 "cell_type": "markdown",
 "metadata": {},
  
 "source": [
  "<fig06-01.pdf>\n",
  "\n",
  "\n",
  "-   Alternatively you can plot the surface in 3D using a wireframe plot:\n",
  "\n"
  ]
 },
{
 "cell_type": "code",
 "metadata": {},
  "outputs": [],
 "execution_count": 1,

 "source": [
  "rotate_view = plot_wireframe(Tfull)\n",
  "if LECTURE:\n",
  "    i = interact(rotate_view, elev=(0, 180, 5), azim=(0, 180, 5))\n",
  "else:\n",
  "    plt.figure(2)\n",
  "    plt.clf()\n",
  "    rotate_view()\n",
  "    plt.savefig('fig06-02.pdf')\n",
  "\n"
  ]
 },
{
 "cell_type": "markdown",
 "metadata": {},
  
 "source": [
  "<fig06-02.pdf>\n",
  "\n",
  "# Solution 2: using the finite difference stencil\n",
  "\n",
  "## Flattening 2D indices $(i,j)$ into vector indices $k$ for the 5-point Laplace stencil\n",
  "\n",
  "\n",
  "![img](fig06-03.png \"Nodes and coefficients of the 5-Point Laplace Stencil (in red), superimposed onto a 2D grid of temperatures $(T_{i,j})$ and centered on node $(i,j)$. Conducting a weighted average of the temperatures around node $(i,j)$ using the stencil coefficients yields the difference approximation shown in red. For each node, we wish to solve $\\nabla T_{i,j} = 0$ using this finite difference approximation.\")\n",
  "\n",
  "Our equation is expressed in terms of our unknowns $(U_k)_{1 \\leq k \\leq n^2}$, so we need to find the indices $k$ corresponding to $(i,j)$, $(i+1,j)$, $(i, j+1)$ and $(i+1, j+1)$. Recall from notebook 4, that if $n$ is the number of columns (and rows) of the temperature matrix $(T_{ij})$, then\n",
  "\n",
  "\\begin{equation}\n",
  "T_{i, j} = U_{k}, \\quad \\text{where} \\quad k = i \\times n + j.\n",
  "\\end{equation}\n",
  "\n"
  ]
 },
{
 "cell_type": "code",
 "metadata": {},
  "outputs": [],
 "execution_count": 1,

 "source": [
  "def get_k(i, j, n):\n",
  "    \"\"\"Convert from (i,j) indices in T array to k index in U column\n",
  "    vector.\n",
  "    \"\"\"\n",
  "    return i * n + j\n",
  "\n"
  ]
 },
{
 "cell_type": "markdown",
 "metadata": {},
  
 "source": [
  "We can use a similar formula to get the $k$ indices correponding to the neighbours up, down left or right of our node $(i, j)$ in matrix $(T_{i,j})$.\n",
  "\n"
  ]
 },
{
 "cell_type": "code",
 "metadata": {},
  "outputs": [],
 "execution_count": 1,

 "source": [
  "def move(i, j, direction):\n",
  "    \"\"\"Move from index (i,j) in direction 'up', 'down', 'left' or 'right'.\n",
  "    \"\"\"\n",
  "    if direction == 'up':\n",
  "        return i - 1, j\n",
  "    if direction == 'down':\n",
  "        return i + 1, j\n",
  "    if direction == 'left':\n",
  "        return i, j - 1\n",
  "    if direction == 'right':\n",
  "        return i, j + 1\n",
  "    # Unknown direction\n",
  "    raise ValueError(\"Unknown direction %s\" % direction)\n",
  "\n"
  ]
 },
{
 "cell_type": "code",
 "metadata": {},
  "outputs": [],
 "execution_count": 1,

 "source": [
  "def get_k_neighbours(i, j, n):\n",
  "    \"\"\"Return the k-indices of the (i,j) neighbours\n",
  "         (k_up, k_right, k_down, k_left)\n",
  "    going clockwise from the neighbour above node (i,j).\n",
  "    \"\"\"\n",
  "    klst = []\n",
  "    for direction in ['up', 'right', 'down', 'left']:\n",
  "        idir, jdir = move(i, j, direction)\n",
  "        kdir = get_k(idir, jdir, n)\n",
  "        klst.append(kdir)\n",
  "    return klst\n",
  "\n"
  ]
 },
{
 "cell_type": "markdown",
 "metadata": {},
  
 "source": [
  "## Testing\n",
  "\n",
  "Let's test our implementation so far to check that everything works as expected. Writing tests is very important and will make developing and improving your code much easier. You should almost think about writing your tests before starting developing the code. This is called test driven development. The python module `py.test` greatly facilitates that approach, but here we will use a more visual approach.\n",
  "\n",
  "Here, the $k$<sup>th</sup> row in matrix $A$ must be such that it can be reshaped into a 2D 5-point Lapace stencil array of the same size as our temperature matrix T, where the stencil is centered at the point $(i, j)$ corresponding to $k$. Let's start by using our `get_k` and `get_k_neighbours` functions to fill the $k^{th}$ row of matrix A. We'll add a few plugins acting on that row to verify its correctness.\n",
  "\n"
  ]
 },
{
 "cell_type": "code",
 "metadata": {},
  "outputs": [],
 "execution_count": 1,

 "source": [
  "n = 5  # number of unknowns in each direction\n",
  "# Dictionary of plugins, where each plugin is a function f(A[k])\n",
  "# acting on the kth row of matrix A\n",
  "plugin_dict = {'none':None}\n",
  "\n",
  "def test_get_k_neighbours(i=1, j=1, plugin='none'):\n",
  "    # Initialize a matrix A and fill the coefs associated\n",
  "    # with the neighbours of node (i,j)\n",
  "    A=np.zeros((n**2, n**2),int)\n",
  "    k = get_k(i, j, n)\n",
  "    up, right, down, left = get_k_neighbours(i, j, n)\n",
  "    A[k, k] = -4\n",
  "    A[k, up] = 1\n",
  "    A[k, down] = 1\n",
  "    A[k, left] = 1\n",
  "    A[k, right] = 1\n",
  "    print \"k =\", k\n",
  "    print \"Coefficients for equation k:\\n A[k] = \", A[k]\n",
  "\n",
  "    # Call the optional plugin\n",
  "    func = plugin_dict[plugin]\n",
  "    if callable(func):\n",
  "        func(A[k])\n",
  "    return A[k]\n",
  "\n"
  ]
 },
{
 "cell_type": "markdown",
 "metadata": {},
  
 "source": [
  "Define a test function and run it.\n",
  "\n"
  ]
 },
{
 "cell_type": "code",
 "metadata": {},
  "outputs": [],
 "execution_count": 1,

 "source": [
  "def runtest():\n",
  "    if LECTURE:\n",
  "        i = interact(test_get_k_neighbours, i=(1, n - 2), j=(1, n - 2),\n",
  "                     plugin=plugin_dict.keys())\n",
  "    else:\n",
  "        # Pick two random numbers between 1 and n-2\n",
  "        i, j = np.random.randint(1, n - 1, 2)\n",
  "        Ak = test_get_k_neighbours(i, j)\n",
  "        # Evaluate all the callable plugins on A[k]\n",
  "        for func in plugin_dict.values():\n",
  "            if callable(func):\n",
  "                func(Ak)\n",
  "\n",
  "runtest()\n",
  "\n"
  ]
 },
{
 "cell_type": "markdown",
 "metadata": {},
  
 "source": [
  "As expected we get only 5 non-zero coefficients. The columns these coefficents are in should match the k-index of the temperature node $U_k$ they're associated with.\n",
  "\n",
  "Let's add a couple of plugins to help us check that this is the case. The first one reshapes the row `A[k]` into a 2D matrix of size $n\\times n$ where the non-zero coefficients should form a stencil centered on index $(i,j)$. The second one prints the symbolic expression corresponding to the k$^{th}$ equation, i.e. $A[k].U$, using SymPy. This should be enough to validate our implementation.\n",
  "\n"
  ]
 },
{
 "cell_type": "code",
 "metadata": {},
  "outputs": [],
 "execution_count": 1,

 "source": [
  "def plot_reshaped_row(Ak, title=\"reshaped A[k]\"):\n",
  "    \"\"\"Reshape row of A as a 2D array to check location of stencil\"\"\"\n",
  "    # Figure showing reshape A[k]\n",
  "    plt.spy(Ak.reshape((n,n)))  # plot sparse matrix\n",
  "    plt.title(title, y=1.1)\n",
  "    plt.xlabel(\"j\")\n",
  "    plt.ylabel(\"i\")\n",
  "\n",
  "import sympy\n",
  "from sympy import symbols, MatrixSymbol, init_printing\n",
  "init_printing(use_unicode=LECTURE)\n",
  "\n",
  "def print_equation_row(Ak):\n",
  "    \"\"\"Display symbolic equation for row A[k] \"\"\"\n",
  "    u_symbols = symbols('U0:%d' % (n*n))\n",
  "    T_symbols = MatrixSymbol('T', n,n)\n",
  "    #print \"Vector of unkowns:\\n U = \"\n",
  "    #sympy.pprint(list(u_symbols))\n",
  "    #sympy.pprint(list(T_symbols))\n",
  "    T = np.array(T_symbols).reshape(-1, 1)\n",
  "    U = np.array(u_symbols).reshape(-1, 1)\n",
  "    print  \"k^{th} equation in terms of U (line 1) or T (line 2):\"\n",
  "    print \"\\t dot product A[k].U =\"\n",
  "    sympy.pprint(np.dot(Ak, U)[0])\n",
  "    sympy.pprint(np.dot(Ak, T)[0])\n",
  "\n",
  "plugin_dict['reshape']= plot_reshaped_row\n",
  "plugin_dict['equation']= print_equation_row\n",
  "\n"
  ]
 },
{
 "cell_type": "code",
 "metadata": {},
  "outputs": [],
 "execution_count": 1,

 "source": [
  "plt.figure(4, figsize=(3,3))\n",
  "plt.clf()\n",
  "runtest()\n",
  "if not LECTURE:\n",
  "    plt.tight_layout()\n",
  "plt.savefig('fig06-04.pdf')\n",
  "\n"
  ]
 },
{
 "cell_type": "markdown",
 "metadata": {},
  
 "source": [
  "<fig06-04.pdf>\n",
  "\n",
  "## Filling matrix A\n",
  "\n",
  "We can now fill the whole matrix. Care must be taken to deal with\n",
  "boundary nodes ($i=0$ or $n-1$, and $j=0$ or $n-1$). Let's us define a\n",
  "helper function to fill the matrix $A$ for all nodes \\(0 \\leq i \\leq\n",
  "n-1\\), $0 \\leq j \\leq n-1$, using `get_k(i,j,n)` and\n",
  "`get_k_neighbours(i,j,n)`.\n",
  "\n",
  "For boundary nodes, we will only fill the coefficients for the\n",
  "neighbours that are within the matrix: this will be achieved by\n",
  "passing an extra string parameter `directions` of the form \"UDLR\" (for\n",
  "up, down, left and right) that lists the neighbours that should be\n",
  "included.\n",
  "\n"
  ]
 },
{
 "cell_type": "code",
 "metadata": {},
  "outputs": [],
 "execution_count": 1,

 "source": [
  "def fill(A, ilst=None, jlst=None, directions='UDLR'):\n",
  "    \"\"\"Fill the stencil coefficients in matrix A corresponding to\n",
  "    nodes (i,j), where i is taken from 'ilst' and j from 'jlst', but\n",
  "    only for the directions listed in string directions, where\n",
  "    U -> up\n",
  "    D -> down\n",
  "    L -> left\n",
  "    R -> right.\n",
  "    \"\"\"\n",
  "    # A is of shape n^2 x n^2 so:\n",
  "    n = int(np.sqrt(A.shape[0]))\n",
  "    # Set default values for ilst and jlst to cover\n",
  "    # all non-boundary nodes\n",
  "    if ilst is None:\n",
  "        # all rows except first and last one\n",
  "        ilst = range(1, n - 1)\n",
  "    if jlst is None:\n",
  "        # all columns except first and last one\n",
  "        jlst = range(1, n - 1)  #\n",
  "\n",
  "    # Loop over all nodes (i,j) in [ilst x jlst] and fill A\n",
  "    for i in ilst:\n",
  "        for j in jlst:\n",
  "            k = get_k(i, j, n)\n",
  "            up, right, down, left =  get_k_neighbours(i, j, n)\n",
  "            A[k, k]=-4\n",
  "            if 'U' in directions:\n",
  "                A[k, up] = 1\n",
  "            if 'D' in directions:\n",
  "                A[k, down] = 1\n",
  "            if 'L' in directions:\n",
  "                A[k, left] = 1\n",
  "            if 'R' in directions:\n",
  "                A[k, right] = 1\n",
  "\n",
  "\n"
  ]
 },
{
 "cell_type": "markdown",
 "metadata": {},
  
 "source": [
  "Let's define a function `get_A2` returning the matrix $A$, based on our new implementation:\n",
  "\n"
  ]
 },
{
 "cell_type": "code",
 "metadata": {},
  "outputs": [],
 "execution_count": 1,

 "source": [
  "def get_A2(n):\n",
  "    \"\"\"Return 2D Laplace matrix A using solution 2\"\"\"\n",
  "    # Initialize the matrix\n",
  "    A = np.zeros((n**2, n**2))\n",
  "    # Fill A for inner nodes\n",
  "    fill(A)\n",
  "    # Fill top, bottom, left and right boundaries:\n",
  "    fill(A, ilst=[0], directions='DLR')    # top\n",
  "    fill(A, ilst=[n-1], directions='ULR')  # bottom\n",
  "    fill(A, jlst=[0], directions='UDR')  # left\n",
  "    fill(A, jlst=[n-1], directions='UDL')  # right\n",
  "    # Fill corners\n",
  "    fill(A, [0], [0], 'RD')      # top left\n",
  "    fill(A, [0], [n-1], 'LD')    # top right\n",
  "    fill(A, [n-1], [0], 'UR')    # bottom left\n",
  "    fill(A, [n-1], [n-1], 'LU')  # bottom right\n",
  "    return A\n",
  "\n",
  "\n"
  ]
 },
{
 "cell_type": "markdown",
 "metadata": {},
  
 "source": [
  "Let's test the rows/equations associated with boundary nodes. Figure 5\n",
  "shows that the equations associated with the edge and boundary nodes\n",
  "are defined properly: when reshaped, the coefficients take the form of\n",
  "a '+' sign, minus the nodes that would like outside of the matrix.\n",
  "\n"
  ]
 },
{
 "cell_type": "code",
 "metadata": {},
  "outputs": [],
 "execution_count": 1,

 "source": [
  "def test_boundary_node(i=0, j=0):\n",
  "    A = get_A2(n)\n",
  "    k = get_k(i, j, n)\n",
  "    plot_reshaped_row(A[k], title='')\n",
  "\n",
  "if LECTURE:\n",
  "    i = interact(test_boundary_node, i=(0, n-1), j=(0, n-1))\n",
  "else:\n",
  "    # Create 9 subplots\n",
  "    fig, axes = plt.subplots(3,3, sharex=True, sharey=True, figsize=(6, 6))\n",
  "    # - 4 nodes in the middle of eqch edges\n",
  "    middle = (n-1) // 2\n",
  "    edges = [(0, middle), (middle, 0), (n - 1, middle), (middle, n - 1)]\n",
  "    # - the 4 corner nodes\n",
  "    corners = [(0, 0), (0, n-1), (n-1, n-1), (n-1, 0)]\n",
  "    # - a random inner node to check that we haven't broken those\n",
  "    random = [np.random.randint(1, n, 2)]\n",
  "    # - create a list containing all the cases and plot them\n",
  "    nodes = edges + corners + random  # 9 test cases\n",
  "    for node, ax in zip(nodes, axes.flatten()):\n",
  "        i, j = node\n",
  "        plt.sca(ax) # set the current axis to 'ax'\n",
  "        test_boundary_node(i, j)\n",
  "    # Remove the xlabels on second and third axes\n",
  "    row0, row1, row2 = axes\n",
  "    for ax in list(row1) + list(row2):\n",
  "        plt.setp(ax.get_xticklabels(), visible=False)\n",
  "    # Remove the ylabels on second and third columns\n",
  "    col0, col1, col2 = axes.T\n",
  "    for ax in list(col1) + list(col2):\n",
  "        plt.setp(ax.get_yticklabels(), visible=False)\n",
  "    plt.savefig('fig06-05.pdf')\n",
  "\n"
  ]
 },
{
 "cell_type": "markdown",
 "metadata": {},
  
 "source": [
  "<fig06-05.pdf>\n",
  "\n",
  "We can also compare the whole matrix with our first implementation and\n",
  "check that all coefficients are the same with `assert` and `np.all`:\n",
  "\n"
  ]
 },
{
 "cell_type": "code",
 "metadata": {},
  "outputs": [],
 "execution_count": 1,

 "source": [
  "# Test by comparing with solution 1\n",
  "# n = 3\n",
  "A = get_A(n)\n",
  "A2 = get_A2(n)\n",
  "# for i in xrange(n*n):\n",
  "#     print \"i =  \", i\n",
  "#     print A[i]\n",
  "#     print A2[i]\n",
  "print np.all(A == A2)\n",
  "\n"
  ]
 },
{
 "cell_type": "markdown",
 "metadata": {},
  
 "source": [
  "# Solve Laplace equation\n",
  "\n"
  ]
 },
{
 "cell_type": "code",
 "metadata": {},
  "outputs": [],
 "execution_count": 1,

 "source": [
  "full = laplace2d(get_A2, get_b, N=50)\n",
  "plot_pcolor(Tfull)\n",
  "\n"
  ]
 },
{
 "cell_type": "markdown",
 "metadata": {},
  
 "source": [
  "# Self study\n",
  "\n",
  "1.  Use an interative method to solve the system of equations more efficiently.\n",
  "2.  Extend the solver to deal with different lengths $L_x$ and $L_y$ and different number of points $N_x$ and $N_y$ in each direction. Test with $L_x=1$, $L_y=2$, $N_x=50$, $N_y=75$.\n",
  "3.  Extend the solver to allow for 4 different temperatures at each edge. Test with $T(x=0)=10\\text{K}$, $T(x=L)=75\\text{K}$, $T(y=0)=0$, $T(y=L)=100$.\n",
  "\n",
  "# Conclusions\n",
  "\n",
  "2 strategies for solving boundary value problems in 2D such as the Laplace equation:\n",
  "-   identify the structure of the matrix for small problem sizes (not always possible)\n",
  "-   switch between 2D indices $(i, j)$ and column indices $k$, for each node and each neighbour making up the stencil. Fill the matrix one nodes, i.e. one row, at a time, being mindful about boundary nodes (more general)\n",
  "\n"
  ]
 }
],
 "metadata": {
  "kernelspec": {
   "display_name": "Python 2",
   "language": "python",
   "name": "python2"
  },
  "language_info": {
   "codemirror_mode": {
    "name": "ipython",
    "version": 2
   },
   "file_extension": ".py",
   "mimetype": "text/x-python",
   "name": "python",
   "nbconvert_exporter": "python",
   "pygments_lexer": "ipython2",
   "version": "2.7.10"
  }
 },
 "nbformat": 4,
 "nbformat_minor": 0
}
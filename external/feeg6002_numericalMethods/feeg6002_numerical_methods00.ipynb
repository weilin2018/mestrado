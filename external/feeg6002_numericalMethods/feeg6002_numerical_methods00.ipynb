{
    "cells": [
	{
	    "cell_type": "markdown",
	    "metadata": {},

	    "source": [
		"<h1 align=\"center\"><font color=\"0066FF\" size=110>FEEG6002 Numerical Methods: Introduction</font></h1>\n"
	    ]
	},
	{
	    "cell_type": "markdown",
	    "metadata": {},

	    "source": [
		"\n",
		"\n",
		"# Learning Outcomes\n",
		"\n",
		"After studying the Numerical Methods part of this module you should be able to:\n",
		"-   Solve simple linear equations numerically using an iterative method.\n",
		"-   Solve simple ODEs numerically using a Runge-Kutta method.\n",
		"-   Solve simple PDEs, such as the Laplace equation or the Heat equation in 1D or 2D, using the finite difference method.\n",
		"-   Solve simple eigenvalue problems numerically.\n",
		"-   Recognise the numerical methods that are suitable for solving a given engineering problem.\n",
		"\n",
		"# Assessment\n",
		"\n",
		"-   Coursework due on Wednesday 6 January 2016\n",
		"-   Counts for 100% of the mark for this part of the module, and 50% of the total module mark.\n",
		"\n",
		"# Course notes and delivery\n",
		"\n",
		"-   PDF of lecture notes <http://www.southampton.ac.uk/~feeg6002/lecturenotes.html>\n",
		"-   Jupyter / IPython notebooks <https://jupyter.org/>:\n",
		"    -   Useful for executing code live\n",
		"    -   Keeps both theory, implementation, results and analysis in a single place\n",
		"    -   You can easily modify and re-run\n",
		"    -   Can be exported to HTML or PDF\n",
		"-   Snippets: <http://www.southampton.ac.uk/~feeg6002/snippets/numerical_methods>\n",
		"\n",
		"# Python / Matlab help\n",
		"\n",
		"-   See Appendix of lecture notes\n",
		"-   For Python:\n",
		"    -   [FEEG1001 notes](http://www.southampton.ac.uk/~fangohr/training/python/pdfs/Python-for-Computational-Science-and-Engineering.pdf)\n",
		"    -   [Installation with Anaconda](http://www.southampton.ac.uk/~fangohr/blog/installation-of-python-spyder-numpy-sympy-scipy-pytest-matplotlib-via-anaconda.html)\n",
		"    -   [Support material](http://www.southampton.ac.uk/~feeg1001/support.html)\n",
		"\n",
		"# References\n",
		"\n",
		"See section 9 of notes.\n",
		"\n"
	    ]
	}
    ],
    "metadata": {
	"kernelspec": {
	    "display_name": "Python 2",
	    "language": "python",
	    "name": "python2"
	},
	"language_info": {
	    "codemirror_mode": {
		"name": "ipython",
		"version": 2
	    },
	    "file_extension": ".py",
	    "mimetype": "text/x-python",
	    "name": "python",
	    "nbconvert_exporter": "python",
	    "pygments_lexer": "ipython2",
	    "version": "2.7.10"
	}
    },
    "nbformat": 4,
    "nbformat_minor": 0
}

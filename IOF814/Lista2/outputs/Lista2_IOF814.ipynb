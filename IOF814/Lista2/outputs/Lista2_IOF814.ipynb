{
 "cells": [
  {
   "cell_type": "markdown",
   "metadata": {},
   "source": [
    "### Lista 2\n",
    "\n",
    "**Aluno:** Danilo Augusto Silva\n",
    "\n",
    "**NUSP:** 7279456\n",
    "\n"
   ]
  },
  {
   "cell_type": "markdown",
   "metadata": {},
   "source": [
    "### Ex1 - Implemente um modelo numérico 2D da equação da vorticidade simplificada abaixo fornecida, de modo a reproduzir os resultados de corrente do modelo de Stommel para o hemisfério Norte:\n",
    "\n",
    "\\begin{equation}\n",
    "    \\frac{\\partial{\\psi}}{\\partial{x}}\\beta = \\frac{\\partial}{\\partial{x}}\\bigg( \\frac{\\tau_{oy}}{\\rho_oH} \\bigg)- \\frac{\\partial}{\\partial{y}}\\bigg(\\frac{\\tau_{ox}}{\\rho_oH} \\bigg) - \\frac{r}{\\rho_oH}\\bigg( \\frac{\\partial^2{\\psi}}{\\partial{x^2}} + \\frac{\\partial^2{\\psi}}{\\partial{y^2}} \\bigg)\n",
    "    \\label{ex1:1}\n",
    "\\end{equation}\n",
    "\n",
    "\\begin{equation}\n",
    "    \\xi = \\bigg( \\frac{\\partial^2{\\psi}}{\\partial{x^2}} + \\frac{\\partial^2{\\psi}}{\\partial{y^2}} \\bigg), u = - \\frac{\\partial{\\psi}}{\\partial{y}}, v = \\frac{\\partial{\\psi}}{\\partial{x}}\n",
    "    \\label{ex1:2}\n",
    "\\end{equation}\n",
    "\n",
    "### Por simplicidade, considere um vento zonal com dependência meridional da forma:\n",
    "\n",
    "\\begin{equation}\n",
    "    \\tau_{ox} = \\tau_o cos\\bigg( \\frac{\\pi y}{L_y} \\bigg)\n",
    "    \\label{ex1:3}\n",
    "\\end{equation}\n",
    "\n",
    "### Como no modelo de Stommel, utilize $\\tau_o = 0.1 N/m^2$, $L_y = 4x10^6 m$, $H = 200m$, $r = 0.2kg/m^2/s$ e $\\beta = 10^{-11} m^{-1}s$"
   ]
  },
  {
   "cell_type": "markdown",
   "metadata": {},
   "source": [
    "Considerando (\\ref{ex1:3}) em (\\ref{ex1:1}), podemos eliminar a variação da tensão de cisalhamento do vento na direção meridional, e, desta forma, reduzimos a equação da vorticidade para:\n",
    "\n",
    "\\begin{equation}\n",
    "    \\frac{\\partial{\\psi}}{\\partial{x}}\\beta = - \\frac{\\partial}{\\partial{y}}\\bigg( \\frac{\\tau_ {ox}}{rho_oH} \\bigg)- \\frac{r}{\\rho_oH}\\bigg( \\frac{\\partial^2{\\psi}}{\\partial{x^2}} + \\frac{\\partial^2{\\psi}}{\\partial{y^2}} \\bigg)\n",
    "    \\label{ex1:4}\n",
    "\\end{equation}\n",
    "\n",
    "Discretizando (4), obtemos:\n",
    "\n",
    "\\begin{equation}\n",
    "    \\bigg( \\frac{v^{n}_{jk} + v^{n}_{j,k-1}}{2} \\bigg)\\beta_{jk} = - \\bigg[ \\bigg(  \\frac{\\tau^{n}_{oxj+1,k+1} + \\tau^{n}_{oxj-1,k+1}}{2\\Delta{y}} \\bigg) + \\bigg(  \\frac{\\tau^{n}_{oxj+1,k-1} + \\tau^{n}_{oxj-1,k-1}}{2\\Delta{y}} \\bigg)\\bigg]\\frac{1}{\\rho_{o}H_{jk}} \\\\\n",
    "    - \\frac{r}{\\rho_{o}H_{jk}}\n",
    "\\end{equation}"
   ]
  },
  {
   "cell_type": "markdown",
   "metadata": {},
   "source": [
    "Isolar a funcao de corrente, usar a formula de recorrencia para calcular a funcao de corrente psi e, entao, utilizar as equacoes (10.87) e (10.88) para encontrar uren(2:kmax-1,2:jmax-1) e vren(2:kmax-1,2:jmax-1)"
   ]
  }
 ],
 "metadata": {
  "kernelspec": {
   "display_name": "Python 2",
   "language": "python",
   "name": "python2"
  },
  "language_info": {
   "codemirror_mode": {
    "name": "ipython",
    "version": 2
   },
   "file_extension": ".py",
   "mimetype": "text/x-python",
   "name": "python",
   "nbconvert_exporter": "python",
   "pygments_lexer": "ipython2",
   "version": "2.7.12"
  }
 },
 "nbformat": 4,
 "nbformat_minor": 2
}

{
 "cells": [
  {
   "cell_type": "markdown",
   "metadata": {},
   "source": [
    "Lista 3"
   ]
  },
  {
   "cell_type": "markdown",
   "metadata": {},
   "source": [
    "#### Exercício 2\n",
    "\n",
    "Um modelo de duas camadas consiste em um modelo teórico, onde o oceano pode ser aproximado para duas camadas de densidades diferentes e constantes em cada camada (Figura 2.1).\n",
    "\n",
    "Sendo assim, não há cálculos de corrente vertical, como em um modelo 3D, onde somente são apresentadas as médias da velocidade vertical em cada camada.\n",
    "\n",
    "As tensões envolvidas nas camadas estão relacionadas a fricção entre camadas, na interface entre elas. No limite superior da camada superior, a tensão de cisalhamento do vento é uma das principais forçantes em inserir energia no sistema oceânico, gerando movimento, enquanto que no limite inferior da camada inferior, o atrito com o fundo oceânico é o principal mecanismo em remover essa energia.\n",
    "\n",
    "A desvantagem desta aproximação teórica está justamente em não representar movimentos verticais de forma realista. Entretanto, suas vantagens superam tal limitação ao estudarmos ondas interna, com propragação entre interfaces de diferentes densidades.\n"
   ]
  },
  {
   "cell_type": "markdown",
   "metadata": {},
   "source": [
    "#### Exercício 3\n",
    "\n",
    "Lembrando que a equação da velocidade vertical é dada por:\n",
    "\n",
    "\\begin{equation}\n",
    "    \\frac{\\partial{z}}{\\partial{t}} = w\n",
    "\\end{equation}\n",
    "\n",
    "e a equação da conservação do sal é dada por:\n",
    "\n",
    "\\begin{equation}\n",
    "    \\frac{\\partial{S}}{\\partial{t}} + \\frac{\\partial{uS}}{\\partial{x}} + \\frac{\\partial{vS}}{\\partial{y}} + \\frac{\\partial{wS}}{\\partial{z}} = D_H\\bigg( \\frac{\\partial^2{S}}{\\partial{x^2}} + \\frac{\\partial^2{S}}{\\partial{y^2}} \\bigg) + D_v\\frac{\\partial^2{S}}{\\partial{z^2}} + F_s\n",
    "\\end{equation}\n",
    "\n",
    "Sabendo que a coordenada sigma se tornará a nova coordenada vertical do sistema de coordenadas e partindo da seguinte relação para a coordenada sigma:\n",
    "\n",
    "\\begin{equation}\n",
    "    \\sigma = \\frac{z - \\zeta}{D}, \\text{ sendo: } D = H + \\zeta\n",
    "\\end{equation}\n",
    "\n",
    "Podemos reescrever as derivadas da seguinte forma:\n",
    "\n",
    "\\begin{equation}\n",
    "    \\frac{\\partial{f}}{\\partial{z}} = \\frac{\\partial{f}}{\\partial{\\sigma}}\\frac{\\partial{\\sigma}}{\\partial{z}} \\rightarrow \\frac{\\partial{f}}{\\partial{\\sigma}}\\frac{\\partial(\\frac{z - \\zeta}{D})}{\\partial{z}}\n",
    "    \\label{eq:3.4}\n",
    "\\end{equation}\n",
    "\n",
    "Para resolver a derivada em (\\ref{eq:3.4}), fazemos:\n",
    "\n",
    "\\begin{equation}\n",
    "    \\frac{\\partial{\\frac{z - \\zeta}{D}}}{\\partial{z}} = \\frac{D\\frac{\\partial{(z - \\zeta)}}{\\partial{z}} - \\frac{\\partial{D}}{\\partial{z}}(z - \\zeta)}{D^2} = \\frac{D}{D^2} = \\frac{1}{D}\n",
    "    \\label{eq:3.5}\n",
    "\\end{equation}\n",
    "\n",
    "Desta forma, aplicando (\\ref{eq:3.5}) em (\\ref{eq:3.4}), obtemos, enfim, a derivada parcial em z como uma derivada parcial sigma:\n",
    "\n",
    "\\begin{equation}\n",
    "    \\frac{\\partial{f}}{\\partial{z}} = \\frac{\\partial{f}}{\\partial{\\sigma}}\\frac{1}{D}\n",
    "    \\label{eq:3.6}\n",
    "\\end{equation}\n",
    "\n",
    "Realizando procedimento semelhante, mas derivando em x e em y, obtemos:\n",
    "\n",
    "\\begin{equation}\n",
    "    \\frac{\\partial{f}}{\\partial{x}} \\bigg|_z=  \\frac{\\partial{f}}{\\partial{x}} \\bigg|_\\sigma + \\frac{\\partial{f}}{\\partial{\\sigma}}\\frac{\\partial{\\sigma}}{\\partial{x}} \\rightarrow \\frac{\\partial{f}}{\\partial{\\sigma}}\\frac{\\partial(\\frac{z - \\zeta}{D})}{\\partial{x}} \\rightarrow \\frac{\\partial{f}}{\\partial{x}} \\bigg|_\\sigma +\\frac{1}{D}\\frac{\\partial{f}}{\\partial{\\sigma}}\\bigg( \\frac{\\partial{\\zeta}}{\\partial{x}} - \\sigma\\frac{\\partial{D}}{\\partial{x}} \\bigg)\n",
    "    \\label{eq:3.7}\n",
    "\\end{equation}\n",
    "\n",
    "\\begin{equation}\n",
    "    \\frac{\\partial{f}}{\\partial{y}}\\bigg|_z = \\frac{\\partial{f}}{\\partial{y}}\\bigg|_\\sigma + \\frac{1}{D}\\frac{\\partial{f}}{\\partial{\\sigma}}\\bigg( \\frac{\\partial{\\zeta}}{\\partial{y}} - \\sigma\\frac{\\partial{D}}{\\partial{y}} \\bigg)\n",
    "    \\label{eq:3.8}\n",
    "\\end{equation}\n",
    "\n",
    "E, para t, temos:\n",
    "\n",
    "\\begin{equation}\n",
    "    \\frac{\\partial{f}}{\\partial{t}}\\bigg|_z = \\frac{\\partial{f}}{\\partial{t}}\\bigg|_\\sigma\n",
    "    \\label{eq:3.9}\n",
    "\\end{equation}"
   ]
  }
 ],
 "metadata": {
  "kernelspec": {
   "display_name": "Python 2",
   "language": "python",
   "name": "python2"
  },
  "language_info": {
   "codemirror_mode": {
    "name": "ipython",
    "version": 2
   },
   "file_extension": ".py",
   "mimetype": "text/x-python",
   "name": "python",
   "nbconvert_exporter": "python",
   "pygments_lexer": "ipython2",
   "version": "2.7.12"
  }
 },
 "nbformat": 4,
 "nbformat_minor": 2
}

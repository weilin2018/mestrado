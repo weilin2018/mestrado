{
 "cells": [
  {
   "cell_type": "code",
   "execution_count": 8,
   "metadata": {
    "collapsed": false
   },
   "outputs": [
    {
     "data": {
      "text/html": [
       "<style> \n",
       "div#notebook-container.container {\n",
       "  /* This acts as a spacer between cells, that is outside the border */\n",
       "  margin: 2px 0px 2px 0px;\n",
       "  list-style: none;\n",
       "  padding: 0;\n",
       "  margin: 0;\n",
       "  -ms-box-orient: horizontal;\n",
       "  display: -webkit-box;\n",
       "  display: -moz-box;\n",
       "  display: -ms-flexbox;\n",
       "  display: -moz-flex;\n",
       "  display: -webkit-flex;\n",
       "  display: flex;  \n",
       "  justify-content: space-around;\n",
       "  -webkit-flex-wrap: wrap;\n",
       "  flex-wrap: wrap;\n",
       "  -webkit-flex-direction: row;\n",
       "  flex-direction: row;\n",
       "}\n",
       "div.cell {\n",
       "width:550px\n",
       "}\n",
       "  </style>"
      ],
      "text/plain": [
       "<IPython.core.display.HTML object>"
      ]
     },
     "metadata": {},
     "output_type": "display_data"
    }
   ],
   "source": [
    "%%HTML\n",
    "<style> \n",
    "div#notebook-container.container {\n",
    "  /* This acts as a spacer between cells, that is outside the border */\n",
    "  margin: 2px 0px 2px 0px;\n",
    "  list-style: none;\n",
    "  padding: 0;\n",
    "  margin: 0;\n",
    "  -ms-box-orient: horizontal;\n",
    "  display: -webkit-box;\n",
    "  display: -moz-box;\n",
    "  display: -ms-flexbox;\n",
    "  display: -moz-flex;\n",
    "  display: -webkit-flex;\n",
    "  display: flex;  \n",
    "  justify-content: space-around;\n",
    "  -webkit-flex-wrap: wrap;\n",
    "  flex-wrap: wrap;\n",
    "  -webkit-flex-direction: row;\n",
    "  flex-direction: row;\n",
    "}\n",
    "div.cell {\n",
    "width:550px\n",
    "}\n",
    "  </style>"
   ]
  },
  {
   "cell_type": "markdown",
   "metadata": {},
   "source": [
    "##### 08/Junho/2017 -  Aula 2 \n",
    "\n",
    "### Quase-Geostrofia do Oceano Homogêneo\n",
    "\n",
    "$\\rho = \\rho_o = constante$\n",
    "\n",
    "Aproximação QG\n",
    "\n",
    "\\begin{align}\n",
    "    R_o \\ll 1 \\\\\n",
    "    \\delta \\ll 1 \\\\\n",
    "    E_v,E_h \\ll 1 \\\\ \n",
    "    \\hat{\\beta},  \\hat{\\beta} = \\frac{\\beta L}{|f_o|} \\\\\n",
    "    \\frac{\\Delta h}{H} = \\frac{\\eta b}{H} \\ll 1 \\Longrightarrow Ro_s \\ll 1\n",
    "\\end{align}\n",
    "\n",
    "\n"
   ]
  },
  {
   "cell_type": "code",
   "execution_count": null,
   "metadata": {
    "collapsed": false
   },
   "outputs": [],
   "source": []
  },
  {
   "cell_type": "markdown",
   "metadata": {},
   "source": [
    "$$ \\frac{D\\vec{V}_h}{Dt} + f\\vec{k}\\times\\vec{V}_h = -\\frac{1}{\\rho_o}\\Delta p$$\n",
    "\n",
    "Por componentes e considerando a hipótese de escala: $ Ro \\ll 1 $, obtemos:\n",
    "\n",
    "\\begin{align}\n",
    "    -fv = - \\frac{1}{\\rho_o} \\frac{\\partial p}{\\partial x} + o(\\frac{\\nu^2}{L}) \\\\\n",
    "     fu = - \\frac{1}{\\rho_o} \\frac{\\partial p}{\\partial y} + o(\\frac{\\nu^2}{L}) \\\\\n",
    "\\end{align}\n",
    "\n",
    "Com $ \\hat{\\beta} \\ll 1 $, reescrevemos:\n",
    "\n",
    "\\begin{align}\n",
    "    v = \\frac{1}{\\rho_o f_o} \\frac{\\partial p}{\\partial x} + o(R_o,\\hat{\\beta}) \\\\\n",
    "    u = - \\frac{1}{\\rho_o f_o} \\frac{\\partial p}{\\partial y} + o(R_o,\\hat{\\beta}) \\\\\n",
    "\\end{align}"
   ]
  },
  {
   "cell_type": "code",
   "execution_count": null,
   "metadata": {
    "collapsed": true
   },
   "outputs": [],
   "source": []
  }
 ],
 "metadata": {
  "kernelspec": {
   "display_name": "Python 2",
   "language": "python",
   "name": "python2"
  },
  "language_info": {
   "codemirror_mode": {
    "name": "ipython",
    "version": 2
   },
   "file_extension": ".py",
   "mimetype": "text/x-python",
   "name": "python",
   "nbconvert_exporter": "python",
   "pygments_lexer": "ipython2",
   "version": "2.7.12"
  }
 },
 "nbformat": 4,
 "nbformat_minor": 2
}

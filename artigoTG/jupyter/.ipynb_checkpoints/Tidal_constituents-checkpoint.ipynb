{
 "cells": [
  {
   "cell_type": "markdown",
   "metadata": {},
   "source": [
    "Rotina para ler o run_data e deixar somente uma componente de maré\n",
    "com amplitude e as demais com amplitude nule (0.0).\n",
    "\n",
    "Inicialmente o código trabalha somente com as duas principais componentes (S2 e M2), setando-se a componente desejada no início do código"
   ]
  },
  {
   "cell_type": "code",
   "execution_count": 1,
   "metadata": {
    "collapsed": true
   },
   "outputs": [],
   "source": [
    "import numpy as np\n",
    "import pandas as pd\n",
    "import matplotlib.pyplot as plt\n",
    "import pickle\n",
    "from scipy.spatial import cKDTree\n",
    "import glob\n",
    "import xray as xr\n",
    "import os\n",
    "import string\n",
    "\n",
    "import matplotlib\n",
    "matplotlib.style.use('ggplot')\n",
    "\n",
    "%matplotlib inline\n",
    "\n",
    "# importando meu pacote de funções\n",
    "import sys\n",
    "\n",
    "sys.path.append('../rotinas/artigoTGpack/')\n",
    "\n",
    "import artigoTGpack as oceano"
   ]
  },
  {
   "cell_type": "code",
   "execution_count": 2,
   "metadata": {
    "collapsed": false
   },
   "outputs": [
    {
     "data": {
      "text/plain": [
       "'/home/tparente/danilo/mestrado/github/artigoTG/rotinas/tides/'"
      ]
     },
     "execution_count": 2,
     "metadata": {},
     "output_type": "execute_result"
    }
   ],
   "source": [
    "BASE_DIR = oceano.make_dir()\n",
    "\n",
    "DATA_DIR = BASE_DIR + 'artigoTG/rotinas/tides/'\n",
    "\n",
    "RUN_DATA = 'run11_data_10hLag'\n",
    "\n",
    "DATA_DIR"
   ]
  },
  {
   "cell_type": "code",
   "execution_count": 3,
   "metadata": {
    "collapsed": true
   },
   "outputs": [],
   "source": [
    "# definir a componente\n",
    "M2 = True\n",
    "S2 = False"
   ]
  },
  {
   "cell_type": "code",
   "execution_count": 4,
   "metadata": {
    "collapsed": true
   },
   "outputs": [],
   "source": [
    "# ler run_data pulando um determinado numero de linhas até certo ponto\n",
    "rowStart = 37\n",
    "rowFinal = 1081\n",
    "\n",
    "f        = open(DATA_DIR+RUN_DATA)\n",
    "f        = f.read()\n",
    "f        = f.split('\\n')\n",
    "data     = f[rowStart:rowFinal] # somente as componentes de maré\n",
    "\n",
    "if M2:\n",
    "    out      = open(DATA_DIR+'mare_M2_10h', 'w') # criando arquivo de saída\n",
    "if S2:\n",
    "    out      = open(DATA_DIR+'mare_S2_10h', 'w') \n",
    "\n",
    "# imprimir o cabeçalho do run_data (copiando do proprio run_data lido)\n",
    "for line in f[:rowStart]:\n",
    "    out.write(line)\n",
    "    out.write('\\n')\n",
    "    \n",
    "# imprimir as componentes de maré\n",
    "for i in np.arange(0,len(data)-1,3):\n",
    "    loc  = data[i]\n",
    "    com  = data[i+1]\n",
    "    deg  = data[i+2]\n",
    "    \n",
    "    nova_fase  = []\n",
    "    componentes= string.split(com, sep=' ') # separando as amplitudes\n",
    "    \n",
    "    out.write(loc+'\\n') # imprimindo os pontos de contorno\n",
    "    \n",
    "    if M2:\n",
    "        out.write('%10.5f%10.5f%10.5f%10.5f%10.5f%10.5f\\n'%\n",
    "              (0.0,float(componentes[6]),0.0,0.0,0.0,0.0))\n",
    "    if S2:\n",
    "        out.write('%10.5f%10.5f%10.5f%10.5f%10.5f%10.5f\\n'%\n",
    "              (float(componentes[3]),0.0,0.0,0.0,0.0,0.0)) # imprimindo as amplitudes\n",
    "     \n",
    "    out.write(deg+'\\n') # imprimindo as fases\n",
    "    \n",
    "# imprimir o restante do run_data\n",
    "for line in f[rowFinal:]:\n",
    "    out.write(line)\n",
    "    out.write('\\n')\n",
    "\n",
    "# fechar arquivo    \n",
    "out.close()"
   ]
  },
  {
   "cell_type": "code",
   "execution_count": 34,
   "metadata": {
    "collapsed": false
   },
   "outputs": [
    {
     "data": {
      "text/plain": [
       "['',\n",
       " '',\n",
       " '',\n",
       " '0.17097',\n",
       " '',\n",
       " '',\n",
       " '0.28974',\n",
       " '',\n",
       " '',\n",
       " '0.03830',\n",
       " '',\n",
       " '',\n",
       " '0.05894',\n",
       " '',\n",
       " '',\n",
       " '0.01878',\n",
       " '',\n",
       " '',\n",
       " '0.10082']"
      ]
     },
     "execution_count": 34,
     "metadata": {},
     "output_type": "execute_result"
    }
   ],
   "source": [
    "componentes"
   ]
  }
 ],
 "metadata": {
  "kernelspec": {
   "display_name": "Python 2",
   "language": "python",
   "name": "python2"
  },
  "language_info": {
   "codemirror_mode": {
    "name": "ipython",
    "version": 2
   },
   "file_extension": ".py",
   "mimetype": "text/x-python",
   "name": "python",
   "nbconvert_exporter": "python",
   "pygments_lexer": "ipython2",
   "version": "2.7.12"
  }
 },
 "nbformat": 4,
 "nbformat_minor": 2
}

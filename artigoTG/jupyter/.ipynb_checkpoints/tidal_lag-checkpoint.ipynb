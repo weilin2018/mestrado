{
 "cells": [
  {
   "cell_type": "code",
   "execution_count": 1,
   "metadata": {},
   "outputs": [],
   "source": [
    "import numpy as np\n",
    "import pandas as pd\n",
    "import matplotlib.pyplot as plt\n",
    "import string\n",
    "import matplotlib\n",
    "\n",
    "%matplotlib inline"
   ]
  },
  {
   "cell_type": "code",
   "execution_count": 20,
   "metadata": {},
   "outputs": [],
   "source": [
    "BASE_DIR = '/home/tparente/danilo/mestrado/github/artigoTG/'\n",
    "DATA_DIR = BASE_DIR + 'rotinas/tides/'\n",
    "\n",
    "# definir o lag, em graus, para adicionar às fases\n",
    "lag = 30.\n",
    "\n",
    "# +lag: atrasar maré\n",
    "# -lag: adiantar maré"
   ]
  },
  {
   "cell_type": "code",
   "execution_count": 22,
   "metadata": {},
   "outputs": [],
   "source": [
    "f = open(DATA_DIR+'tide_complement.txt')\n",
    "f = f.read()\n",
    "f = f.split('\\n')\n",
    "data = f[2:]\n",
    "\n",
    "# inicializar novo arquivo de texto\n",
    "out = open(DATA_DIR+'nova_mare','w')\n",
    "out.write(f[0]+'\\n')\n",
    "out.write(f[1]+'\\n')\n",
    "\n",
    "# loop \n",
    "for i in np.arange(0,len(data)-1,3):\n",
    "    loc = data[i]\n",
    "    com = data[i+1]\n",
    "    deg = data[i+2]\n",
    "    \n",
    "    nova_fase = []\n",
    "    \n",
    "    for fase in string.split(deg,sep=' '):\n",
    "        if len(fase)!=0:\n",
    "            nova_fase.append(float(fase)+lag)\n",
    "            \n",
    "    # imprimir em novo arquivo os dados modificados\n",
    "    out.write(loc+'\\n')\n",
    "    out.write(com+'\\n')\n",
    "    out.write('%10.5f%10.5f%10.5f%10.5f%10.5f%10.5f\\n'%(nova_fase[0],nova_fase[1],nova_fase[2],nova_fase[3],nova_fase[4],nova_fase[5]))\n",
    "    \n",
    "# fechar arquivo\n",
    "out.close()"
   ]
  },
  {
   "cell_type": "markdown",
   "metadata": {},
   "source": [
    "Rotina que lê um trecho do run_data com os dados de elevação por maré,\n",
    "soma um lag definido pelo usuário a fase das componentes e, por fim,\n",
    "salva todas as informações em um novo arquivo.\n",
    "\n"
   ]
  }
 ],
 "metadata": {
  "kernelspec": {
   "display_name": "Python 2",
   "language": "python",
   "name": "python2"
  },
  "language_info": {
   "codemirror_mode": {
    "name": "ipython",
    "version": 2
   },
   "file_extension": ".py",
   "mimetype": "text/x-python",
   "name": "python",
   "nbconvert_exporter": "python",
   "pygments_lexer": "ipython2",
   "version": "2.7.12"
  }
 },
 "nbformat": 4,
 "nbformat_minor": 2
}

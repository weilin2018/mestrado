{
 "cells": [
  {
   "cell_type": "code",
   "execution_count": 4,
   "metadata": {},
   "outputs": [],
   "source": [
    "import numpy as np\n",
    "import pandas as pd\n",
    "import matplotlib.pyplot as plt\n",
    "import pickle\n",
    "from scipy.spatial import cKDTree\n",
    "import glob\n",
    "import xray as xr\n",
    "import os\n",
    "import string\n",
    "\n",
    "import matplotlib\n",
    "matplotlib.style.use('ggplot')\n",
    "\n",
    "%matplotlib inline\n",
    "\n",
    "# importando meu pacote de funções\n",
    "import sys\n",
    "\n",
    "sys.path.append('../rotinas/artigoTGpack/')\n",
    "\n",
    "import artigoTGpack as oceano"
   ]
  },
  {
   "cell_type": "code",
   "execution_count": 30,
   "metadata": {},
   "outputs": [],
   "source": [
    "# creating directories\n",
    "BASE_DIR = oceano.make_dir()\n",
    "FILE_DIR = BASE_DIR + 'artigoTG/rotinas/tides/'"
   ]
  },
  {
   "cell_type": "code",
   "execution_count": 63,
   "metadata": {
    "scrolled": true
   },
   "outputs": [
    {
     "data": {
      "text/plain": [
       "74.0"
      ]
     },
     "execution_count": 63,
     "metadata": {},
     "output_type": "execute_result"
    }
   ],
   "source": [
    "def remover(s):\n",
    "    output = []\n",
    "    \n",
    "    for i in s:\n",
    "        if i != '' and i != '0.00000':\n",
    "            output.append(float(i))\n",
    "            \n",
    "    return np.asarray(output)\n",
    "            \n",
    "# leitura do arquivo com dados de maré (do run_data)\n",
    "f = open(FILE_DIR+'tide_complement.txt')\n",
    "f = f.read()\n",
    "f = f.split('\\n')\n",
    "data = f[2:]\n",
    "\n",
    "# split and remove some values\n",
    "output = []\n",
    "\n",
    "for i in np.arange(0,len(data),3):\n",
    "    output.append(remover(data[i].split(' ')))\n",
    "\n",
    "output[0][0]"
   ]
  },
  {
   "cell_type": "code",
   "execution_count": 66,
   "metadata": {},
   "outputs": [
    {
     "data": {
      "text/plain": [
       "349"
      ]
     },
     "execution_count": 66,
     "metadata": {},
     "output_type": "execute_result"
    }
   ],
   "source": [
    "# print data into file\n",
    "\n",
    "# \n",
    "\n"
   ]
  },
  {
   "cell_type": "code",
   "execution_count": 74,
   "metadata": {},
   "outputs": [],
   "source": [
    "# inicializar novo arquivo de texto\n",
    "out = open(FILE_DIR+'mare_nula','w')\n",
    "out.write(f[0]+'\\n')\n",
    "out.write(f[1].replace('    TIDAL CONSTITUENT', ' DATA')+'\\n')\n",
    "\n",
    "# writing boundary points\n",
    "for i in np.arange(0,len(output)-1,4):\n",
    "    out.write('%5.0f%5.0f%5.0f%5.0f%5.0f%5.0f%5.0f%5.0f%5.0f%5.0f%5.0f%5.0f%5.0f%5.0f%5.0f%5.0f\\n'% \n",
    "    (output[i][0],output[i][1],output[i][2],output[i][3], output[i+1][0],output[i+1][1],output[i+1][2],output[i+1][3], output[i+2][0],output[i+2][1],output[i+2][2],output[i+2][3], output[i+3][0],output[i+3][1],output[i+3][2],output[i+3][3] ))\n",
    "\n",
    "# out.write('\\n')\n",
    "\n",
    "# writing boundary elevation\n",
    "elevation = 0.\n",
    "\n",
    "# first time\n",
    "out.write('%10.5f\\n'%0.0)\n",
    "\n",
    "for i in np.arange(0,len(output)-1,4):\n",
    "    out.write('%10.5f%10.5f%10.5f%10.5f%10.5f%10.5f%10.5f%10.5f\\n'%\n",
    "            (elevation, elevation, elevation, elevation, elevation, elevation, elevation, elevation))\n",
    "\n",
    "# out.write('\\n')\n",
    "\n",
    "# last time\n",
    "out.write('%10.5f\\n'%9999.0)\n",
    "\n",
    "for i in np.arange(0,len(output)-1,4):\n",
    "    out.write('%10.5f%10.5f%10.5f%10.5f%10.5f%10.5f%10.5f%10.5f\\n'%\n",
    "            (elevation, elevation, elevation, elevation, elevation, elevation, elevation, elevation))\n",
    "# out.write('\\n')\n",
    "\n",
    "out.close()\n",
    "# # loop \n",
    "# for i in np.arange(0,len(data)-1,3):\n",
    "#     loc = data[i]\n",
    "\n",
    "#     if cont == 4:\n",
    "#         breakline = '\\n'\n",
    "#     else:\n",
    "#         breakline = ''\n",
    "            \n",
    "            \n",
    "#     # imprimir em novo arquivo os dados modificados\n",
    "#     out.write(loc+'\\n')\n",
    "# #     out.write(com+'\\n')\n",
    "# #     out.write('%10.5f%10.5f%10.5f%10.5f%10.5f%10.5f\\n'%(nova_fase[0],nova_fase[1],nova_fase[2],nova_fase[3],nova_fase[4],nova_fase[5]))\n",
    "    \n",
    "# # fechar arquivo\n",
    "# out.close()"
   ]
  }
 ],
 "metadata": {
  "kernelspec": {
   "display_name": "Python 2",
   "language": "python",
   "name": "python2"
  },
  "language_info": {
   "codemirror_mode": {
    "name": "ipython",
    "version": 2
   },
   "file_extension": ".py",
   "mimetype": "text/x-python",
   "name": "python",
   "nbconvert_exporter": "python",
   "pygments_lexer": "ipython2",
   "version": "2.7.12"
  }
 },
 "nbformat": 4,
 "nbformat_minor": 2
}

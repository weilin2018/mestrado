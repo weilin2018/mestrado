{
 "cells": [
  {
   "cell_type": "markdown",
   "metadata": {},
   "source": [
    "Definindo o atraso da maré através da correlação entre a série original e os dados observados.\n",
    "\n",
    "A partir dessa diferença de fase, poderemos redefinir a fase das componentes de maré, baseado no período de cada componente.\n",
    "\n"
   ]
  },
  {
   "cell_type": "markdown",
   "metadata": {},
   "source": [
    "Para alterar a fase das componentes de maré, deve-se rodar o seguinte arquivo: [correcao_faseMare.py](../rotinas/correcao_faseMare.py)\n",
    "\n",
    "neste arquivo, deve-se alterar a linha 21, colocando a diferença de fase desejada.\n",
    "\n",
    "Essa diferença pode vir de métodos analíticos, como mostrado abaixo e como encontrado no pacote artigoTG criado por mim, ou visualmente.\n",
    "\n",
    "Importante mencionar, que a diferença de fase é calculada especificamente para cada componente de maré, baseado no período da componente:\n",
    "\n",
    "faseNova = $\\frac{\\text{lag em horas}}{\\text{T_{componente}}} * 360$\n",
    "\n",
    "\n",
    "Essa rotina gera um arquivo run_data pronto para ser utilizado, \n",
    "salvando os dados com uma frequênca aproximada de 5h e rodando um período\n",
    "de 21 de Dezembro de 1996 à 07 de Fevereiro de 1997.\n",
    "\n"
   ]
  },
  {
   "cell_type": "markdown",
   "metadata": {},
   "source": [
    "# Definindo a diferença de fase entre as séries\n",
    "\n",
    "Source: https://stackoverflow.com/questions/4688715/find-time-shift-between-two-similar-waveforms"
   ]
  }
 ],
 "metadata": {
  "kernelspec": {
   "display_name": "Python 2",
   "language": "python",
   "name": "python2"
  },
  "language_info": {
   "codemirror_mode": {
    "name": "ipython",
    "version": 2
   },
   "file_extension": ".py",
   "mimetype": "text/x-python",
   "name": "python",
   "nbconvert_exporter": "python",
   "pygments_lexer": "ipython2",
   "version": "2.7.12"
  }
 },
 "nbformat": 4,
 "nbformat_minor": 2
}

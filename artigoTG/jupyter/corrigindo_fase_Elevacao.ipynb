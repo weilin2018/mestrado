{
 "cells": [
  {
   "cell_type": "markdown",
   "metadata": {},
   "source": [
    "Definindo o atraso da maré através da correlação entre a série original e os dados observados.\n",
    "\n",
    "A partir dessa diferença de fase, poderemos redefinir a fase das componentes de maré, baseado no período de cada componente.\n",
    "\n"
   ]
  },
  {
   "cell_type": "code",
   "execution_count": 1,
   "metadata": {},
   "outputs": [
    {
     "name": "stderr",
     "output_type": "stream",
     "text": [
      "/home/danilo/miniconda2/envs/mestrado/lib/python2.7/site-packages/xarray/conventions.py:9: FutureWarning: The pandas.tslib module is deprecated and will be removed in a future version.\n",
      "  from pandas.tslib import OutOfBoundsDatetime\n"
     ]
    }
   ],
   "source": [
    "import matplotlib.pyplot as plt\n",
    "import numpy as np\n",
    "import pandas as pd\n",
    "import pickle\n",
    "import os\n",
    "import string\n",
    "import xray as xr\n",
    "from scipy.spatial import cKDTree\n",
    "\n",
    "import matplotlib\n",
    "matplotlib.style.use('ggplot')\n",
    "\n",
    "import sys\n",
    "sys.path.append('../rotinas/artigoTGpack/')\n",
    "\n",
    "import artigoTGpack as oceano\n",
    "\n",
    "%matplotlib notebook"
   ]
  },
  {
   "cell_type": "code",
   "execution_count": 2,
   "metadata": {},
   "outputs": [
    {
     "data": {
      "text/plain": [
       "((118,), (118,), (118,))"
      ]
     },
     "execution_count": 2,
     "metadata": {},
     "output_type": "execute_result"
    }
   ],
   "source": [
    "# dados de saída do modelo já determinados para um período e dados do BNDO\n",
    "# para o mesmo período\n",
    "secom = np.asarray([\n",
    "        0.05066382, -0.14191973,  0.14863421, -0.07172287,  0.13184801,\n",
    "       -0.18373264,  0.12726995, -0.1397833 ,  0.13581566, -0.1556539 ,\n",
    "        0.1226919 , -0.14924462,  0.12147108, -0.04486495,  0.09308713,\n",
    "       -0.12818556,  0.02655272,  0.02929956,  0.03052037, -0.06500839,\n",
    "       -0.08393102,  0.12757516, -0.02624752, -0.00366244, -0.20845414,\n",
    "        0.22005188, -0.07019686,  0.09522356, -0.30276209,  0.28506028,\n",
    "       -0.10468488,  0.17976499, -0.39035556,  0.31222341, -0.14405616,\n",
    "        0.23927972, -0.44803906,  0.30642454, -0.15840073,  0.29696322,\n",
    "       -0.45170151,  0.27743018, -0.16175797,  0.31466504, -0.41355104,\n",
    "        0.2215779 , -0.14344575,  0.295132  , -0.33023043,  0.14924462,\n",
    "       -0.10712651,  0.23287044, -0.21638944,  0.06287197, -0.04791698,\n",
    "        0.13734167, -0.08637265, -0.02929956,  0.02044865,  0.02136426,\n",
    "        0.04455974, -0.10804212,  0.06928124, -0.12025027,  0.12360751,\n",
    "       -0.15046543,  0.1397833 , -0.19777201,  0.17640775, -0.13886769,\n",
    "        0.16694644, -0.21425301,  0.16603082, -0.07477491,  0.14405616,\n",
    "       -0.20296047,  0.04517015,  0.02258508,  0.07965817, -0.11689303,\n",
    "       -0.09369754,  0.14130932,  0.00122081,  0.01495498, -0.24507859,\n",
    "        0.24935144, -0.09583397,  0.17030368, -0.34335419,  0.33389287,\n",
    "       -0.16755684,  0.25942316, -0.46818251,  0.36532885, -0.20936975,\n",
    "        0.33725011, -0.49565084,  0.3448802 , -0.21486342,  0.35678315,\n",
    "       -0.46390966,  0.27651457, -0.18739508,  0.33511369, -0.36777048,\n",
    "        0.18556386, -0.13001679,  0.25637113, -0.23897451,  0.08484663,\n",
    "       -0.05951473,  0.15229666, -0.10193804, -0.01068213,  0.00518846,\n",
    "        0.03357241,  0.02380589, -0.07324889])\n",
    "\n",
    "bndo = np.asarray([-0.34568428,  0.08764906, -0.11901761,  0.26764906, -0.16568428,\n",
    "        0.28431572,  0.11431572, -0.16235094, -0.01568428,  0.15431572,\n",
    "       -0.22901761,  0.11764906,  0.08431572,  0.04431572,  0.14431572,\n",
    "       -0.13901761,  0.38098239,  0.08098239,  0.14098239, -0.25901761,\n",
    "        0.34431572, -0.22235094,  0.13098239, -0.56568428,  0.54431572,\n",
    "       -0.19901761,  0.47431572, -0.56901761,  0.62764906, -0.28901761,\n",
    "        0.60431572, -0.52901761,  0.73431572, -0.23901761,  0.62764906,\n",
    "       -0.48235094,  0.45764906, -0.21568428,  0.60431572, -0.43235094,\n",
    "        0.57431572, -0.04901761,  0.38764906, -0.16235094,  0.17431572,\n",
    "        0.05764906,  0.57431572, -0.10568428,  0.25098239,  0.17764906,\n",
    "        0.29431572, -0.00901761,  0.02098239,  0.23431572,  0.20098239,\n",
    "        0.19431572,  0.06431572,  0.38098239,  0.23764906,  0.37431572,\n",
    "        0.06431572,  0.33431572, -0.05568428,  0.35098239,  0.00764906,\n",
    "        0.40764906, -0.01901761,  0.40764906, -0.00568428,  0.13098239,\n",
    "       -0.16235094,  0.05764906, -0.07235094,  0.04431572, -0.21901761,\n",
    "        0.03098239,  0.07098239, -0.04235094,  0.06098239, -0.18235094,\n",
    "        0.34764906, -0.29901761,  0.15764906, -0.71568428,  0.37098239,\n",
    "       -0.55901761,  0.16431572, -0.98235094,  0.40431572, -0.47235094,\n",
    "        0.42098239, -0.81235094,  0.62764906, -0.28901761,  0.61764906,\n",
    "       -0.66235094,  0.65431572, -0.08901761,  0.63431572, -0.39568428,\n",
    "        0.33098239,  0.00431572,  0.23764906, -0.27568428, -0.22568428,\n",
    "       -0.11568428,  0.12431572, -0.28901761, -0.31235094,  0.09098239,\n",
    "        0.21431572,  0.06431572, -0.22568428, -0.17568428, -0.20901761,\n",
    "       -0.06235094, -0.35568428,  0.18098239])\n",
    "\n",
    "time = pd.date_range(start='1996-12-18 03:00', end='1997-01-16 09:00', freq='6H')\n",
    "\n",
    "time.shape, bndo.shape, secom.shape"
   ]
  },
  {
   "cell_type": "code",
   "execution_count": 3,
   "metadata": {},
   "outputs": [
    {
     "data": {
      "text/html": [
       "<div>\n",
       "<style scoped>\n",
       "    .dataframe tbody tr th:only-of-type {\n",
       "        vertical-align: middle;\n",
       "    }\n",
       "\n",
       "    .dataframe tbody tr th {\n",
       "        vertical-align: top;\n",
       "    }\n",
       "\n",
       "    .dataframe thead th {\n",
       "        text-align: right;\n",
       "    }\n",
       "</style>\n",
       "<table border=\"1\" class=\"dataframe\">\n",
       "  <thead>\n",
       "    <tr style=\"text-align: right;\">\n",
       "      <th></th>\n",
       "      <th>bndo</th>\n",
       "      <th>secom</th>\n",
       "    </tr>\n",
       "  </thead>\n",
       "  <tbody>\n",
       "    <tr>\n",
       "      <th>bndo</th>\n",
       "      <td>1.000000</td>\n",
       "      <td>-0.655862</td>\n",
       "    </tr>\n",
       "    <tr>\n",
       "      <th>secom</th>\n",
       "      <td>-0.655862</td>\n",
       "      <td>1.000000</td>\n",
       "    </tr>\n",
       "  </tbody>\n",
       "</table>\n",
       "</div>"
      ],
      "text/plain": [
       "           bndo     secom\n",
       "bndo   1.000000 -0.655862\n",
       "secom -0.655862  1.000000"
      ]
     },
     "execution_count": 3,
     "metadata": {},
     "output_type": "execute_result"
    }
   ],
   "source": [
    "df = pd.DataFrame({'secom':secom, 'bndo':bndo},index=time)\n",
    "\n",
    "df.corr()"
   ]
  },
  {
   "cell_type": "code",
   "execution_count": 4,
   "metadata": {},
   "outputs": [
    {
     "data": {
      "text/plain": [
       "0.065644770071519365"
      ]
     },
     "execution_count": 4,
     "metadata": {},
     "output_type": "execute_result"
    }
   ],
   "source": [
    "oceano.skill_willmott(df.bndo.values, df.secom.values)"
   ]
  },
  {
   "cell_type": "markdown",
   "metadata": {},
   "source": [
    "# Definindo a diferença de fase entre as séries\n",
    "\n",
    "Source: https://stackoverflow.com/questions/4688715/find-time-shift-between-two-similar-waveforms"
   ]
  },
  {
   "cell_type": "code",
   "execution_count": 5,
   "metadata": {},
   "outputs": [],
   "source": [
    "from scipy import signal, fftpack\n",
    "import scipy"
   ]
  },
  {
   "cell_type": "code",
   "execution_count": 6,
   "metadata": {},
   "outputs": [
    {
     "ename": "NameError",
     "evalue": "name 'df' is not defined",
     "output_type": "error",
     "traceback": [
      "\u001b[0;31m---------------------------------------------------------------------------\u001b[0m",
      "\u001b[0;31mNameError\u001b[0m                                 Traceback (most recent call last)",
      "\u001b[0;32m<ipython-input-6-34dbd29c52d3>\u001b[0m in \u001b[0;36m<module>\u001b[0;34m()\u001b[0m\n\u001b[0;32m----> 1\u001b[0;31m \u001b[0msecomF\u001b[0m \u001b[0;34m=\u001b[0m \u001b[0mfftpack\u001b[0m\u001b[0;34m.\u001b[0m\u001b[0mfft\u001b[0m\u001b[0;34m(\u001b[0m\u001b[0mdf\u001b[0m\u001b[0;34m.\u001b[0m\u001b[0msecom\u001b[0m\u001b[0;34m.\u001b[0m\u001b[0mvalues\u001b[0m\u001b[0;34m)\u001b[0m\u001b[0;34m\u001b[0m\u001b[0m\n\u001b[0m\u001b[1;32m      2\u001b[0m \u001b[0mbndoF\u001b[0m  \u001b[0;34m=\u001b[0m \u001b[0mfftpack\u001b[0m\u001b[0;34m.\u001b[0m\u001b[0mfft\u001b[0m\u001b[0;34m(\u001b[0m\u001b[0mdf\u001b[0m\u001b[0;34m.\u001b[0m\u001b[0mbndo\u001b[0m\u001b[0;34m.\u001b[0m\u001b[0mvalues\u001b[0m\u001b[0;34m)\u001b[0m\u001b[0;34m\u001b[0m\u001b[0m\n\u001b[1;32m      3\u001b[0m \u001b[0;34m\u001b[0m\u001b[0m\n\u001b[1;32m      4\u001b[0m \u001b[0mc\u001b[0m \u001b[0;34m=\u001b[0m \u001b[0mfftpack\u001b[0m\u001b[0;34m.\u001b[0m\u001b[0mifft\u001b[0m\u001b[0;34m(\u001b[0m\u001b[0msecomF\u001b[0m \u001b[0;34m*\u001b[0m \u001b[0mscipy\u001b[0m\u001b[0;34m.\u001b[0m\u001b[0mconj\u001b[0m\u001b[0;34m(\u001b[0m\u001b[0mbndoF\u001b[0m\u001b[0;34m)\u001b[0m\u001b[0;34m)\u001b[0m\u001b[0;34m\u001b[0m\u001b[0m\n\u001b[1;32m      5\u001b[0m \u001b[0;34m\u001b[0m\u001b[0m\n",
      "\u001b[0;31mNameError\u001b[0m: name 'df' is not defined"
     ]
    }
   ],
   "source": [
    "secomF = fftpack.fft(df.secom.values)\n",
    "bndoF  = fftpack.fft(df.bndo.values)\n",
    "\n",
    "c = fftpack.ifft(secomF * scipy.conj(bndoF))\n",
    "\n",
    "phase_difference = np.argmax(np.abs(c))\n",
    "\n",
    "phase_difference # in hours"
   ]
  },
  {
   "cell_type": "code",
   "execution_count": 3,
   "metadata": {},
   "outputs": [
    {
     "ename": "NameError",
     "evalue": "name 'df' is not defined",
     "output_type": "error",
     "traceback": [
      "\u001b[0;31m---------------------------------------------------------------------------\u001b[0m",
      "\u001b[0;31mNameError\u001b[0m                                 Traceback (most recent call last)",
      "\u001b[0;32m<ipython-input-3-32e7ee7b22ab>\u001b[0m in \u001b[0;36m<module>\u001b[0;34m()\u001b[0m\n\u001b[1;32m     13\u001b[0m     \u001b[0;32mreturn\u001b[0m \u001b[0;34m(\u001b[0m \u001b[0mlags\u001b[0m\u001b[0;34m[\u001b[0m\u001b[0mnp\u001b[0m\u001b[0;34m.\u001b[0m\u001b[0margmax\u001b[0m\u001b[0;34m(\u001b[0m\u001b[0mnp\u001b[0m\u001b[0;34m.\u001b[0m\u001b[0mabs\u001b[0m\u001b[0;34m(\u001b[0m\u001b[0mz\u001b[0m\u001b[0;34m)\u001b[0m\u001b[0;34m)\u001b[0m\u001b[0;34m]\u001b[0m \u001b[0;34m)\u001b[0m\u001b[0;34m\u001b[0m\u001b[0m\n\u001b[1;32m     14\u001b[0m \u001b[0;34m\u001b[0m\u001b[0m\n\u001b[0;32m---> 15\u001b[0;31m \u001b[0mlag\u001b[0m \u001b[0;34m=\u001b[0m \u001b[0mmax_correlacao\u001b[0m\u001b[0;34m(\u001b[0m\u001b[0mdf\u001b[0m\u001b[0;34m.\u001b[0m\u001b[0msecom\u001b[0m\u001b[0;34m.\u001b[0m\u001b[0mvalues\u001b[0m\u001b[0;34m,\u001b[0m \u001b[0mdf\u001b[0m\u001b[0;34m.\u001b[0m\u001b[0mbndo\u001b[0m\u001b[0;34m.\u001b[0m\u001b[0mvalues\u001b[0m\u001b[0;34m)\u001b[0m \u001b[0;34m+\u001b[0m \u001b[0;36m24\u001b[0m\u001b[0;34m\u001b[0m\u001b[0m\n\u001b[0m",
      "\u001b[0;31mNameError\u001b[0m: name 'df' is not defined"
     ]
    }
   ],
   "source": [
    "def max_correlacao(modelo, observado):\n",
    "    '''\n",
    "    obtem a diferenca temporal (em horas) da maxima correlação entre\n",
    "    duas séries temporais.\n",
    "    modelo: série temporal saída do modelo, em pandas.Series\n",
    "    observado: série temporal obtida in situ, em pandas.Series\n",
    "    \n",
    "    return\n",
    "        diferença de fase em horas\n",
    "    '''\n",
    "    z = signal.fftconvolve(modelo, observado[::-1])\n",
    "    lags = np.arange(z.size) - (observado.size - 1)\n",
    "    return ( lags[np.argmax(np.abs(z))] )\n",
    "\n",
    "lag = max_correlacao(df.secom.values, df.bndo.values) + 24"
   ]
  },
  {
   "cell_type": "markdown",
   "metadata": {},
   "source": [
    "# Realizando a alteração nas componentes de maré"
   ]
  },
  {
   "cell_type": "code",
   "execution_count": 7,
   "metadata": {},
   "outputs": [
    {
     "data": {
      "text/plain": [
       "'/media/danilo/Danilo/mestrado/github/artigoTG/rotinas/tides/'"
      ]
     },
     "execution_count": 7,
     "metadata": {},
     "output_type": "execute_result"
    }
   ],
   "source": [
    "BASE_DIR = oceano.make_dir()\n",
    "DATA_DIR = BASE_DIR + 'artigoTG/rotinas/tides/'\n",
    "\n",
    "DATA_DIR"
   ]
  },
  {
   "cell_type": "code",
   "execution_count": 12,
   "metadata": {},
   "outputs": [],
   "source": [
    "lag = 11 # horas\n",
    "\n",
    "# período das componentes de maré aceitas no sECOM\n",
    "Tcomponentes = [12., 12.42, 12.66, 23.94, 24.06, 25.86]\n",
    "\n",
    "# BASE_DIR = '/home/tparente/danilo/mestrado/github/artigoTG/'\n",
    "# DATA_DIR = BASE_DIR + 'rotinas/tides/'\n",
    "# DATA_DIR = '/media/danilo/Danilo/mestrado/github/artigoTG/rotinas/tides/'\n",
    "\n",
    "# leitura do arquivo com dados de maré (do run_data)\n",
    "f = open(DATA_DIR+'tide_complement.txt')\n",
    "f = f.read()\n",
    "f = f.split('\\n')\n",
    "data = f[2:]\n",
    "\n",
    "# inicializar novo arquivo de texto\n",
    "out = open(DATA_DIR+'lag_11h_fromOriginal','w')\n",
    "out.write(f[0]+'\\n')\n",
    "out.write(f[1]+'\\n')\n",
    "\n",
    "# loop \n",
    "for i in np.arange(0,len(data)-1,3):\n",
    "    loc = data[i]\n",
    "    com = data[i+1]\n",
    "    deg = data[i+2]\n",
    "    \n",
    "    nova_fase  = []\n",
    "    componente = 0\n",
    "    \n",
    "    for fase in string.split(deg,sep=' '):\n",
    "        if len(fase)!=0:\n",
    "            nfase = (lag/Tcomponentes[componente]) * 360\n",
    "            nova_fase.append(float(nfase))\n",
    "            componente += 1\n",
    "            \n",
    "    # imprimir em novo arquivo os dados modificados\n",
    "    out.write(loc+'\\n')\n",
    "    out.write(com+'\\n')\n",
    "    out.write('%10.5f%10.5f%10.5f%10.5f%10.5f%10.5f\\n'%(nova_fase[0],nova_fase[1],nova_fase[2],nova_fase[3],nova_fase[4],nova_fase[5]))\n",
    "    \n",
    "# fechar arquivo\n",
    "out.close()"
   ]
  },
  {
   "cell_type": "code",
   "execution_count": 40,
   "metadata": {},
   "outputs": [
    {
     "data": {
      "text/plain": [
       "['',\n",
       " '176.70958',\n",
       " '167.28714',\n",
       " '206.56158',\n",
       " '188.78208',\n",
       " '176.35280',\n",
       " '125.76240']"
      ]
     },
     "execution_count": 40,
     "metadata": {},
     "output_type": "execute_result"
    }
   ],
   "source": [
    "string.split(deg,sep=' ')"
   ]
  }
 ],
 "metadata": {
  "kernelspec": {
   "display_name": "Python 2",
   "language": "python",
   "name": "python2"
  },
  "language_info": {
   "codemirror_mode": {
    "name": "ipython",
    "version": 2
   },
   "file_extension": ".py",
   "mimetype": "text/x-python",
   "name": "python",
   "nbconvert_exporter": "python",
   "pygments_lexer": "ipython2",
   "version": "2.7.14"
  }
 },
 "nbformat": 4,
 "nbformat_minor": 2
}

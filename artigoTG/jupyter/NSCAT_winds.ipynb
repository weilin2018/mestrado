{
 "cells": [
  {
   "cell_type": "markdown",
   "metadata": {},
   "source": [
    "### Avaliação inicial dos dados (diários) de vento providos pelo COAPS (nscat)\n",
    "\n"
   ]
  },
  {
   "cell_type": "code",
   "execution_count": 4,
   "metadata": {},
   "outputs": [],
   "source": [
    "import xray as xr\n",
    "import numpy as np\n",
    "import pandas as pd\n",
    "import matplotlib.pyplot as plt\n",
    "import glob\n",
    "\n",
    "import matplotlib\n",
    "\n",
    "matplotlib.style.use('ggplot')\n",
    "\n",
    "%matplotlib notebook"
   ]
  },
  {
   "cell_type": "code",
   "execution_count": 3,
   "metadata": {},
   "outputs": [],
   "source": [
    "# diretórios de trabalho\n",
    "BASE_DIR = '/home/tparente/danilo/mestrado/artigo_tg/'\n",
    "DATA_DIR = BASE_DIR + 'dados_vento/winds_nscat/wt_W25'\n",
    "\n"
   ]
  },
  {
   "cell_type": "code",
   "execution_count": 6,
   "metadata": {},
   "outputs": [],
   "source": [
    "# ler arquivos .nc\n",
    "# periodo de interesse: 01.Dez.1996 - 01.Mai.1997\n",
    "\n",
    "lfiles = glob.glob(DATA_DIR+'/*.nc')\n",
    "\n"
   ]
  },
  {
   "cell_type": "code",
   "execution_count": 13,
   "metadata": {},
   "outputs": [
    {
     "data": {
      "text/plain": [
       "(360, 720)"
      ]
     },
     "execution_count": 13,
     "metadata": {},
     "output_type": "execute_result"
    }
   ],
   "source": [
    "# inspeçao inicial do arquivo\n",
    "fname = lfiles[0]\n",
    "\n",
    "data = xr.open_dataset(fname)\n",
    "\n",
    "# extrair variaveis\n",
    "lat = data['lat'].data\n",
    "lon = data['lon'].data\n",
    "wnu = data['u'].data\n",
    "wnv = data['v'].data\n",
    "\n",
    "# gridar coordenadas\n",
    "llon, llat = np.meshgrid(lon,lat)\n",
    "\n",
    "llon.shape"
   ]
  },
  {
   "cell_type": "code",
   "execution_count": 17,
   "metadata": {},
   "outputs": [
    {
     "data": {
      "text/plain": [
       "36.009999195113778"
      ]
     },
     "execution_count": 17,
     "metadata": {},
     "output_type": "execute_result"
    }
   ],
   "source": []
  },
  {
   "cell_type": "code",
   "execution_count": null,
   "metadata": {},
   "outputs": [],
   "source": []
  }
 ],
 "metadata": {
  "kernelspec": {
   "display_name": "Python 2",
   "language": "python",
   "name": "python2"
  },
  "language_info": {
   "codemirror_mode": {
    "name": "ipython",
    "version": 2
   },
   "file_extension": ".py",
   "mimetype": "text/x-python",
   "name": "python",
   "nbconvert_exporter": "python",
   "pygments_lexer": "ipython2",
   "version": "2.7.12"
  }
 },
 "nbformat": 4,
 "nbformat_minor": 2
}
